{
 "cells": [
  {
   "cell_type": "code",
   "execution_count": 1,
   "id": "822ac671",
   "metadata": {},
   "outputs": [],
   "source": [
    "#For Data Analysis\n",
    "import pandas as pd\n",
    "import numpy as np\n",
    "\n",
    "#for visualisation\n",
    "import matplotlib.pyplot as plt\n",
    "import seaborn as sns\n",
    "\n",
    "from scipy import stats\n",
    "\n",
    "#supress warnings\n",
    "import warnings\n",
    "warnings.filterwarnings(\"ignore\")\n",
    "\n",
    "#Preprocessing and scaling features\n",
    "from sklearn.preprocessing import OneHotEncoder,LabelEncoder,MinMaxScaler\n",
    "\n",
    "#Split dataset into train and test and for Hyperparameter tuning\n",
    "from sklearn.model_selection import train_test_split,GridSearchCV\n",
    "\n",
    "#Models\n",
    "#Logistic regression\n",
    "from sklearn.linear_model import LogisticRegression\n",
    "\n",
    "#KNN\n",
    "from sklearn.neighbors import KNeighborsClassifier\n",
    "\n",
    "#Decission Tree\n",
    "from sklearn.tree import DecisionTreeClassifier\n",
    "\n",
    "#Random Forest\n",
    "from sklearn.ensemble import RandomForestClassifier\n",
    "\n",
    "#SVM\n",
    "from sklearn.svm import SVC\n",
    "\n",
    "#Metrics to Evalute the model\n",
    "from sklearn.metrics import accuracy_score,confusion_matrix,ConfusionMatrixDisplay,classification_report"
   ]
  },
  {
   "cell_type": "code",
   "execution_count": 2,
   "id": "5124be47",
   "metadata": {},
   "outputs": [],
   "source": [
    "#import the dataset\n",
    "titanic_df=pd.read_csv(\"train.csv\")"
   ]
  },
  {
   "cell_type": "code",
   "execution_count": 3,
   "id": "db7f652a",
   "metadata": {},
   "outputs": [
    {
     "name": "stdout",
     "output_type": "stream",
     "text": [
      "<class 'pandas.core.frame.DataFrame'>\n",
      "RangeIndex: 891 entries, 0 to 890\n",
      "Data columns (total 12 columns):\n",
      " #   Column       Non-Null Count  Dtype  \n",
      "---  ------       --------------  -----  \n",
      " 0   PassengerId  891 non-null    int64  \n",
      " 1   Survived     891 non-null    int64  \n",
      " 2   Pclass       891 non-null    int64  \n",
      " 3   Name         891 non-null    object \n",
      " 4   Sex          891 non-null    object \n",
      " 5   Age          714 non-null    float64\n",
      " 6   SibSp        891 non-null    int64  \n",
      " 7   Parch        891 non-null    int64  \n",
      " 8   Ticket       891 non-null    object \n",
      " 9   Fare         891 non-null    float64\n",
      " 10  Cabin        204 non-null    object \n",
      " 11  Embarked     889 non-null    object \n",
      "dtypes: float64(2), int64(5), object(5)\n",
      "memory usage: 83.7+ KB\n"
     ]
    }
   ],
   "source": [
    "titanic_df.info()"
   ]
  },
  {
   "cell_type": "code",
   "execution_count": 4,
   "id": "6a2b2695",
   "metadata": {},
   "outputs": [
    {
     "data": {
      "text/html": [
       "<div>\n",
       "<style scoped>\n",
       "    .dataframe tbody tr th:only-of-type {\n",
       "        vertical-align: middle;\n",
       "    }\n",
       "\n",
       "    .dataframe tbody tr th {\n",
       "        vertical-align: top;\n",
       "    }\n",
       "\n",
       "    .dataframe thead th {\n",
       "        text-align: right;\n",
       "    }\n",
       "</style>\n",
       "<table border=\"1\" class=\"dataframe\">\n",
       "  <thead>\n",
       "    <tr style=\"text-align: right;\">\n",
       "      <th></th>\n",
       "      <th>PassengerId</th>\n",
       "      <th>Survived</th>\n",
       "      <th>Pclass</th>\n",
       "      <th>Name</th>\n",
       "      <th>Sex</th>\n",
       "      <th>Age</th>\n",
       "      <th>SibSp</th>\n",
       "      <th>Parch</th>\n",
       "      <th>Ticket</th>\n",
       "      <th>Fare</th>\n",
       "      <th>Cabin</th>\n",
       "      <th>Embarked</th>\n",
       "    </tr>\n",
       "  </thead>\n",
       "  <tbody>\n",
       "    <tr>\n",
       "      <th>0</th>\n",
       "      <td>1</td>\n",
       "      <td>0</td>\n",
       "      <td>3</td>\n",
       "      <td>Braund, Mr. Owen Harris</td>\n",
       "      <td>male</td>\n",
       "      <td>22.0</td>\n",
       "      <td>1</td>\n",
       "      <td>0</td>\n",
       "      <td>A/5 21171</td>\n",
       "      <td>7.2500</td>\n",
       "      <td>NaN</td>\n",
       "      <td>S</td>\n",
       "    </tr>\n",
       "    <tr>\n",
       "      <th>1</th>\n",
       "      <td>2</td>\n",
       "      <td>1</td>\n",
       "      <td>1</td>\n",
       "      <td>Cumings, Mrs. John Bradley (Florence Briggs Th...</td>\n",
       "      <td>female</td>\n",
       "      <td>38.0</td>\n",
       "      <td>1</td>\n",
       "      <td>0</td>\n",
       "      <td>PC 17599</td>\n",
       "      <td>71.2833</td>\n",
       "      <td>C85</td>\n",
       "      <td>C</td>\n",
       "    </tr>\n",
       "    <tr>\n",
       "      <th>2</th>\n",
       "      <td>3</td>\n",
       "      <td>1</td>\n",
       "      <td>3</td>\n",
       "      <td>Heikkinen, Miss. Laina</td>\n",
       "      <td>female</td>\n",
       "      <td>26.0</td>\n",
       "      <td>0</td>\n",
       "      <td>0</td>\n",
       "      <td>STON/O2. 3101282</td>\n",
       "      <td>7.9250</td>\n",
       "      <td>NaN</td>\n",
       "      <td>S</td>\n",
       "    </tr>\n",
       "    <tr>\n",
       "      <th>3</th>\n",
       "      <td>4</td>\n",
       "      <td>1</td>\n",
       "      <td>1</td>\n",
       "      <td>Futrelle, Mrs. Jacques Heath (Lily May Peel)</td>\n",
       "      <td>female</td>\n",
       "      <td>35.0</td>\n",
       "      <td>1</td>\n",
       "      <td>0</td>\n",
       "      <td>113803</td>\n",
       "      <td>53.1000</td>\n",
       "      <td>C123</td>\n",
       "      <td>S</td>\n",
       "    </tr>\n",
       "    <tr>\n",
       "      <th>4</th>\n",
       "      <td>5</td>\n",
       "      <td>0</td>\n",
       "      <td>3</td>\n",
       "      <td>Allen, Mr. William Henry</td>\n",
       "      <td>male</td>\n",
       "      <td>35.0</td>\n",
       "      <td>0</td>\n",
       "      <td>0</td>\n",
       "      <td>373450</td>\n",
       "      <td>8.0500</td>\n",
       "      <td>NaN</td>\n",
       "      <td>S</td>\n",
       "    </tr>\n",
       "  </tbody>\n",
       "</table>\n",
       "</div>"
      ],
      "text/plain": [
       "   PassengerId  Survived  Pclass  \\\n",
       "0            1         0       3   \n",
       "1            2         1       1   \n",
       "2            3         1       3   \n",
       "3            4         1       1   \n",
       "4            5         0       3   \n",
       "\n",
       "                                                Name     Sex   Age  SibSp  \\\n",
       "0                            Braund, Mr. Owen Harris    male  22.0      1   \n",
       "1  Cumings, Mrs. John Bradley (Florence Briggs Th...  female  38.0      1   \n",
       "2                             Heikkinen, Miss. Laina  female  26.0      0   \n",
       "3       Futrelle, Mrs. Jacques Heath (Lily May Peel)  female  35.0      1   \n",
       "4                           Allen, Mr. William Henry    male  35.0      0   \n",
       "\n",
       "   Parch            Ticket     Fare Cabin Embarked  \n",
       "0      0         A/5 21171   7.2500   NaN        S  \n",
       "1      0          PC 17599  71.2833   C85        C  \n",
       "2      0  STON/O2. 3101282   7.9250   NaN        S  \n",
       "3      0            113803  53.1000  C123        S  \n",
       "4      0            373450   8.0500   NaN        S  "
      ]
     },
     "execution_count": 4,
     "metadata": {},
     "output_type": "execute_result"
    }
   ],
   "source": [
    "titanic_df.head()"
   ]
  },
  {
   "cell_type": "code",
   "execution_count": 5,
   "id": "665ee650",
   "metadata": {},
   "outputs": [],
   "source": [
    "def find_missing_values(df):\n",
    "    for each in df.columns:\n",
    "        print(\"The {} column has {}% of missing values\".format(each,((df[each].isnull().sum()/df.shape[0])*100)))"
   ]
  },
  {
   "cell_type": "code",
   "execution_count": 6,
   "id": "7005f6c4",
   "metadata": {},
   "outputs": [],
   "source": [
    "numeric_data=titanic_df.select_dtypes(['int64','float64'])\n",
    "categorical_data=titanic_df.select_dtypes(['object'])"
   ]
  },
  {
   "cell_type": "code",
   "execution_count": 7,
   "id": "8d447ef8",
   "metadata": {},
   "outputs": [
    {
     "name": "stdout",
     "output_type": "stream",
     "text": [
      "The PassengerId column has 0.0% of missing values\n",
      "The Survived column has 0.0% of missing values\n",
      "The Pclass column has 0.0% of missing values\n",
      "The Age column has 19.865319865319865% of missing values\n",
      "The SibSp column has 0.0% of missing values\n",
      "The Parch column has 0.0% of missing values\n",
      "The Fare column has 0.0% of missing values\n",
      "The Name column has 0.0% of missing values\n",
      "The Sex column has 0.0% of missing values\n",
      "The Ticket column has 0.0% of missing values\n",
      "The Cabin column has 77.10437710437711% of missing values\n",
      "The Embarked column has 0.22446689113355783% of missing values\n"
     ]
    }
   ],
   "source": [
    "find_missing_values(numeric_data)\n",
    "find_missing_values(categorical_data)"
   ]
  },
  {
   "cell_type": "code",
   "execution_count": null,
   "id": "b4af7637",
   "metadata": {},
   "outputs": [],
   "source": [
    "#There are some missing values in the Age column, Cabin, Embarked"
   ]
  },
  {
   "cell_type": "code",
   "execution_count": null,
   "id": "51427d60",
   "metadata": {},
   "outputs": [],
   "source": [
    "#Treating the missing values in AGe coloumn"
   ]
  },
  {
   "cell_type": "code",
   "execution_count": 8,
   "id": "7423a76b",
   "metadata": {},
   "outputs": [],
   "source": [
    "titanic_df[\"Age\"]=titanic_df[\"Age\"].fillna(titanic_df[\"Age\"].median())"
   ]
  },
  {
   "cell_type": "code",
   "execution_count": null,
   "id": "e4b21837",
   "metadata": {},
   "outputs": [],
   "source": [
    "#Treating the missing values in Cabin & Embarked coloumn"
   ]
  },
  {
   "cell_type": "code",
   "execution_count": 9,
   "id": "7c4487fa",
   "metadata": {},
   "outputs": [],
   "source": [
    "titanic_df[\"Cabin\"]=titanic_df[\"Cabin\"].fillna(titanic_df[\"Cabin\"].mode()[0])\n",
    "titanic_df[\"Embarked\"]=titanic_df[\"Embarked\"].fillna(titanic_df[\"Embarked\"].mode()[0])"
   ]
  },
  {
   "cell_type": "code",
   "execution_count": null,
   "id": "cbb341e2",
   "metadata": {},
   "outputs": [],
   "source": [
    "#Now all the missing values are treated in training dataset."
   ]
  },
  {
   "cell_type": "code",
   "execution_count": null,
   "id": "8eb50141",
   "metadata": {},
   "outputs": [],
   "source": [
    "#The missing columns are treated in the Train data"
   ]
  },
  {
   "cell_type": "markdown",
   "id": "d452015a",
   "metadata": {},
   "source": [
    " 0   PassengerId  \n",
    " 1   Pclass       \n",
    " 2   Name         \n",
    " 3   Sex          \n",
    " 4   Age          \n",
    " 5   SibSp        \n",
    " 6   Parch        \n",
    " 7   Ticket       \n",
    " 8   Fare         \n",
    " 9   Cabin        \n",
    " 10  Embarked \n",
    "    Among the 11 columns what are the columns that have effect on the Survival.\n",
    "    \n",
    "No Use:      Passenger ID,Name,Ticket ID,Cabin will not have effect on the survival.\n",
    "Categorical: Embarked\n",
    "Binary:      Sex\n",
    "Order:       Pclass 1>2>3\n",
    "continuos:   Age, Fare\n",
    "Count #No.:  SibSp,Parch"
   ]
  },
  {
   "cell_type": "code",
   "execution_count": 10,
   "id": "d40a0821",
   "metadata": {},
   "outputs": [],
   "source": [
    "categorical_features=['Pclass','Sex','Embarked']"
   ]
  },
  {
   "cell_type": "code",
   "execution_count": 11,
   "id": "f0bd6f56",
   "metadata": {
    "scrolled": true
   },
   "outputs": [
    {
     "data": {
      "image/png": "[encoded data removed]",
      "text/plain": [
       "<Figure size 1080x288 with 3 Axes>"
      ]
     },
     "metadata": {
      "needs_background": "light"
     },
     "output_type": "display_data"
    }
   ],
   "source": [
    "#Rows, columns, fignumber\n",
    "a,b,c=1,3,0\n",
    "\n",
    "fig=plt.figure(figsize=(15,4))\n",
    "for i in range (0,len(categorical_features)):\n",
    "    plt.subplot(a,b,c+1)\n",
    "    sns.countplot(categorical_features[i],hue = \"Survived\",data=titanic_df)\n",
    "    c+=1"
   ]
  },
  {
   "cell_type": "code",
   "execution_count": 12,
   "id": "1fab703c",
   "metadata": {},
   "outputs": [
    {
     "data": {
      "text/plain": [
       "<AxesSubplot:xlabel='Embarked', ylabel='Survived'>"
      ]
     },
     "execution_count": 12,
     "metadata": {},
     "output_type": "execute_result"
    },
    {
     "data": {
      "image/png": "[encoded data removed]",
      "text/plain": [
       "<Figure size 432x288 with 1 Axes>"
      ]
     },
     "metadata": {
      "needs_background": "light"
     },
     "output_type": "display_data"
    }
   ],
   "source": [
    "sns.barplot(x ='Embarked', y ='Survived',data = titanic_df)"
   ]
  },
  {
   "cell_type": "markdown",
   "id": "f7e36047",
   "metadata": {},
   "source": [
    "#### The Pclass=1 has more survival rate\n",
    "#### Females have more survival rate\n",
    "#### The number of people embarked at the Southampton port surivived more\n",
    "####  People emabrked at Cherbourg port the survival rate is more"
   ]
  },
  {
   "cell_type": "code",
   "execution_count": 13,
   "id": "d2caded1",
   "metadata": {},
   "outputs": [],
   "source": [
    "port_survival = titanic_df[['Embarked', 'Survived']].groupby('Embarked').agg(['mean', 'count', 'sum'])\n",
    "port_survival.columns = ['Survival rate', 'Total', 'Survived']\n",
    "port_survival['Died'] = port_survival['Total'] - port_survival['Survived']"
   ]
  },
  {
   "cell_type": "code",
   "execution_count": 14,
   "id": "07f9744f",
   "metadata": {},
   "outputs": [
    {
     "data": {
      "text/html": [
       "<div>\n",
       "<style scoped>\n",
       "    .dataframe tbody tr th:only-of-type {\n",
       "        vertical-align: middle;\n",
       "    }\n",
       "\n",
       "    .dataframe tbody tr th {\n",
       "        vertical-align: top;\n",
       "    }\n",
       "\n",
       "    .dataframe thead th {\n",
       "        text-align: right;\n",
       "    }\n",
       "</style>\n",
       "<table border=\"1\" class=\"dataframe\">\n",
       "  <thead>\n",
       "    <tr style=\"text-align: right;\">\n",
       "      <th></th>\n",
       "      <th>Survival rate</th>\n",
       "      <th>Total</th>\n",
       "      <th>Survived</th>\n",
       "      <th>Died</th>\n",
       "    </tr>\n",
       "    <tr>\n",
       "      <th>Embarked</th>\n",
       "      <th></th>\n",
       "      <th></th>\n",
       "      <th></th>\n",
       "      <th></th>\n",
       "    </tr>\n",
       "  </thead>\n",
       "  <tbody>\n",
       "    <tr>\n",
       "      <th>C</th>\n",
       "      <td>0.553571</td>\n",
       "      <td>168</td>\n",
       "      <td>93</td>\n",
       "      <td>75</td>\n",
       "    </tr>\n",
       "    <tr>\n",
       "      <th>Q</th>\n",
       "      <td>0.389610</td>\n",
       "      <td>77</td>\n",
       "      <td>30</td>\n",
       "      <td>47</td>\n",
       "    </tr>\n",
       "    <tr>\n",
       "      <th>S</th>\n",
       "      <td>0.339009</td>\n",
       "      <td>646</td>\n",
       "      <td>219</td>\n",
       "      <td>427</td>\n",
       "    </tr>\n",
       "  </tbody>\n",
       "</table>\n",
       "</div>"
      ],
      "text/plain": [
       "          Survival rate  Total  Survived  Died\n",
       "Embarked                                      \n",
       "C              0.553571    168        93    75\n",
       "Q              0.389610     77        30    47\n",
       "S              0.339009    646       219   427"
      ]
     },
     "execution_count": 14,
     "metadata": {},
     "output_type": "execute_result"
    }
   ],
   "source": [
    "port_survival"
   ]
  },
  {
   "cell_type": "markdown",
   "id": "c94a03dd",
   "metadata": {},
   "source": [
    "From the plot and reports we can see that There are more number of people embarked at port \"S\" \n",
    "The survival rate is more at Port \"C\""
   ]
  },
  {
   "cell_type": "code",
   "execution_count": 15,
   "id": "0f5fdd5f",
   "metadata": {},
   "outputs": [],
   "source": [
    "class_survival = titanic_df[['Pclass', 'Survived']].groupby('Pclass').agg(['mean', 'count', 'sum'])\n",
    "class_survival.columns = ['Survival rate', 'Total', 'Survived']\n",
    "class_survival['Died'] = class_survival['Total'] - class_survival['Survived']"
   ]
  },
  {
   "cell_type": "code",
   "execution_count": 16,
   "id": "63544e2e",
   "metadata": {},
   "outputs": [
    {
     "data": {
      "text/html": [
       "<div>\n",
       "<style scoped>\n",
       "    .dataframe tbody tr th:only-of-type {\n",
       "        vertical-align: middle;\n",
       "    }\n",
       "\n",
       "    .dataframe tbody tr th {\n",
       "        vertical-align: top;\n",
       "    }\n",
       "\n",
       "    .dataframe thead th {\n",
       "        text-align: right;\n",
       "    }\n",
       "</style>\n",
       "<table border=\"1\" class=\"dataframe\">\n",
       "  <thead>\n",
       "    <tr style=\"text-align: right;\">\n",
       "      <th></th>\n",
       "      <th>Survival rate</th>\n",
       "      <th>Total</th>\n",
       "      <th>Survived</th>\n",
       "      <th>Died</th>\n",
       "    </tr>\n",
       "    <tr>\n",
       "      <th>Pclass</th>\n",
       "      <th></th>\n",
       "      <th></th>\n",
       "      <th></th>\n",
       "      <th></th>\n",
       "    </tr>\n",
       "  </thead>\n",
       "  <tbody>\n",
       "    <tr>\n",
       "      <th>1</th>\n",
       "      <td>0.629630</td>\n",
       "      <td>216</td>\n",
       "      <td>136</td>\n",
       "      <td>80</td>\n",
       "    </tr>\n",
       "    <tr>\n",
       "      <th>2</th>\n",
       "      <td>0.472826</td>\n",
       "      <td>184</td>\n",
       "      <td>87</td>\n",
       "      <td>97</td>\n",
       "    </tr>\n",
       "    <tr>\n",
       "      <th>3</th>\n",
       "      <td>0.242363</td>\n",
       "      <td>491</td>\n",
       "      <td>119</td>\n",
       "      <td>372</td>\n",
       "    </tr>\n",
       "  </tbody>\n",
       "</table>\n",
       "</div>"
      ],
      "text/plain": [
       "        Survival rate  Total  Survived  Died\n",
       "Pclass                                      \n",
       "1            0.629630    216       136    80\n",
       "2            0.472826    184        87    97\n",
       "3            0.242363    491       119   372"
      ]
     },
     "execution_count": 16,
     "metadata": {},
     "output_type": "execute_result"
    }
   ],
   "source": [
    "class_survival"
   ]
  },
  {
   "cell_type": "markdown",
   "id": "717a22bf",
   "metadata": {},
   "source": [
    "From the plot and reports we can see that There are more number of people survived at class1>class2>class3\n",
    "Many people belong to class 3 and the death rate is also more for them"
   ]
  },
  {
   "cell_type": "code",
   "execution_count": 17,
   "id": "23efb192",
   "metadata": {},
   "outputs": [],
   "source": [
    "sex_survival = titanic_df[['Sex', 'Survived']].groupby('Sex').agg(['mean', 'count', 'sum'])\n",
    "sex_survival.columns = ['Survival rate', 'Total', 'Survived']\n",
    "sex_survival['Died'] = sex_survival['Total'] - sex_survival['Survived']"
   ]
  },
  {
   "cell_type": "code",
   "execution_count": 18,
   "id": "b60d9202",
   "metadata": {},
   "outputs": [
    {
     "data": {
      "text/html": [
       "<div>\n",
       "<style scoped>\n",
       "    .dataframe tbody tr th:only-of-type {\n",
       "        vertical-align: middle;\n",
       "    }\n",
       "\n",
       "    .dataframe tbody tr th {\n",
       "        vertical-align: top;\n",
       "    }\n",
       "\n",
       "    .dataframe thead th {\n",
       "        text-align: right;\n",
       "    }\n",
       "</style>\n",
       "<table border=\"1\" class=\"dataframe\">\n",
       "  <thead>\n",
       "    <tr style=\"text-align: right;\">\n",
       "      <th></th>\n",
       "      <th>Survival rate</th>\n",
       "      <th>Total</th>\n",
       "      <th>Survived</th>\n",
       "      <th>Died</th>\n",
       "    </tr>\n",
       "    <tr>\n",
       "      <th>Sex</th>\n",
       "      <th></th>\n",
       "      <th></th>\n",
       "      <th></th>\n",
       "      <th></th>\n",
       "    </tr>\n",
       "  </thead>\n",
       "  <tbody>\n",
       "    <tr>\n",
       "      <th>female</th>\n",
       "      <td>0.742038</td>\n",
       "      <td>314</td>\n",
       "      <td>233</td>\n",
       "      <td>81</td>\n",
       "    </tr>\n",
       "    <tr>\n",
       "      <th>male</th>\n",
       "      <td>0.188908</td>\n",
       "      <td>577</td>\n",
       "      <td>109</td>\n",
       "      <td>468</td>\n",
       "    </tr>\n",
       "  </tbody>\n",
       "</table>\n",
       "</div>"
      ],
      "text/plain": [
       "        Survival rate  Total  Survived  Died\n",
       "Sex                                         \n",
       "female       0.742038    314       233    81\n",
       "male         0.188908    577       109   468"
      ]
     },
     "execution_count": 18,
     "metadata": {},
     "output_type": "execute_result"
    }
   ],
   "source": [
    "sex_survival"
   ]
  },
  {
   "cell_type": "markdown",
   "id": "2255b7c8",
   "metadata": {},
   "source": [
    "For females the survival rate is more."
   ]
  },
  {
   "cell_type": "code",
   "execution_count": 19,
   "id": "fdb9a1d0",
   "metadata": {},
   "outputs": [],
   "source": [
    "numeric_features=['Age','SibSp','Parch','Fare']"
   ]
  },
  {
   "cell_type": "code",
   "execution_count": 20,
   "id": "5b948354",
   "metadata": {
    "scrolled": true
   },
   "outputs": [
    {
     "data": {
      "image/png": "[encoded data removed]",
      "text/plain": [
       "<Figure size 432x288 with 1 Axes>"
      ]
     },
     "metadata": {
      "needs_background": "light"
     },
     "output_type": "display_data"
    }
   ],
   "source": [
    "sns.violinplot(x =titanic_df[\"Sex\"],y =titanic_df[\"Age\"],hue=titanic_df[\"Survived\"]);"
   ]
  },
  {
   "cell_type": "markdown",
   "id": "8dfac09f",
   "metadata": {},
   "source": [
    "#### From violin plots also we can infer that Females have survived more\n",
    "and also the The males of lower age 0-20 have survived\n",
    "in general the people in age group between 20 to 40 have survived more."
   ]
  },
  {
   "cell_type": "code",
   "execution_count": 21,
   "id": "e22e079e",
   "metadata": {},
   "outputs": [],
   "source": [
    "bin_labels= ['0-20', '20-40', '40-60', '60-80']\n",
    "titanic_df['Age_bands'] = pd.cut(titanic_df['Age'], bins=4,right=True,labels=bin_labels)"
   ]
  },
  {
   "cell_type": "code",
   "execution_count": 22,
   "id": "3dd8ee02",
   "metadata": {},
   "outputs": [
    {
     "data": {
      "text/plain": [
       "<AxesSubplot:xlabel='Age_bands', ylabel='Survived'>"
      ]
     },
     "execution_count": 22,
     "metadata": {},
     "output_type": "execute_result"
    },
    {
     "data": {
      "image/png": "[encoded data removed]",
      "text/plain": [
       "<Figure size 432x288 with 1 Axes>"
      ]
     },
     "metadata": {
      "needs_background": "light"
     },
     "output_type": "display_data"
    }
   ],
   "source": [
    "sns.barplot(x ='Age_bands', y ='Survived',data = titanic_df)"
   ]
  },
  {
   "cell_type": "markdown",
   "id": "f465743b",
   "metadata": {},
   "source": [
    "#### From the barplots we can infer , people in the Age band 0-20 have more chances to survive\n",
    "\n",
    "0-20 > 40-60 > 20-40 > 60-80"
   ]
  },
  {
   "cell_type": "code",
   "execution_count": 23,
   "id": "b7109c94",
   "metadata": {},
   "outputs": [
    {
     "data": {
      "text/html": [
       "<div>\n",
       "<style scoped>\n",
       "    .dataframe tbody tr th:only-of-type {\n",
       "        vertical-align: middle;\n",
       "    }\n",
       "\n",
       "    .dataframe tbody tr th {\n",
       "        vertical-align: top;\n",
       "    }\n",
       "\n",
       "    .dataframe thead th {\n",
       "        text-align: right;\n",
       "    }\n",
       "</style>\n",
       "<table border=\"1\" class=\"dataframe\">\n",
       "  <thead>\n",
       "    <tr style=\"text-align: right;\">\n",
       "      <th></th>\n",
       "      <th>Age_bands</th>\n",
       "      <th>Survived</th>\n",
       "    </tr>\n",
       "  </thead>\n",
       "  <tbody>\n",
       "    <tr>\n",
       "      <th>0</th>\n",
       "      <td>0-20</td>\n",
       "      <td>0.458101</td>\n",
       "    </tr>\n",
       "    <tr>\n",
       "      <th>2</th>\n",
       "      <td>40-60</td>\n",
       "      <td>0.390625</td>\n",
       "    </tr>\n",
       "    <tr>\n",
       "      <th>1</th>\n",
       "      <td>20-40</td>\n",
       "      <td>0.364769</td>\n",
       "    </tr>\n",
       "    <tr>\n",
       "      <th>3</th>\n",
       "      <td>60-80</td>\n",
       "      <td>0.227273</td>\n",
       "    </tr>\n",
       "  </tbody>\n",
       "</table>\n",
       "</div>"
      ],
      "text/plain": [
       "  Age_bands  Survived\n",
       "0      0-20  0.458101\n",
       "2     40-60  0.390625\n",
       "1     20-40  0.364769\n",
       "3     60-80  0.227273"
      ]
     },
     "execution_count": 23,
     "metadata": {},
     "output_type": "execute_result"
    }
   ],
   "source": [
    "titanic_df[['Age_bands', 'Survived']].groupby(['Age_bands'], as_index=False).mean().sort_values(by='Survived', ascending=False)"
   ]
  },
  {
   "cell_type": "code",
   "execution_count": 24,
   "id": "50fadd51",
   "metadata": {},
   "outputs": [
    {
     "data": {
      "text/plain": [
       "<AxesSubplot:xlabel='Age_bands', ylabel='Survived'>"
      ]
     },
     "execution_count": 24,
     "metadata": {},
     "output_type": "execute_result"
    },
    {
     "data": {
      "image/png": "[encoded data removed]",
      "text/plain": [
       "<Figure size 432x288 with 1 Axes>"
      ]
     },
     "metadata": {
      "needs_background": "light"
     },
     "output_type": "display_data"
    }
   ],
   "source": [
    "sns.barplot(x ='Age_bands', y ='Survived',hue='Sex',data = titanic_df)"
   ]
  },
  {
   "cell_type": "code",
   "execution_count": 25,
   "id": "67760662",
   "metadata": {},
   "outputs": [
    {
     "data": {
      "text/html": [
       "<div>\n",
       "<style scoped>\n",
       "    .dataframe tbody tr th:only-of-type {\n",
       "        vertical-align: middle;\n",
       "    }\n",
       "\n",
       "    .dataframe tbody tr th {\n",
       "        vertical-align: top;\n",
       "    }\n",
       "\n",
       "    .dataframe thead th {\n",
       "        text-align: right;\n",
       "    }\n",
       "</style>\n",
       "<table border=\"1\" class=\"dataframe\">\n",
       "  <thead>\n",
       "    <tr style=\"text-align: right;\">\n",
       "      <th></th>\n",
       "      <th>Age_bands</th>\n",
       "      <th>Sex</th>\n",
       "      <th>Survived</th>\n",
       "    </tr>\n",
       "  </thead>\n",
       "  <tbody>\n",
       "    <tr>\n",
       "      <th>6</th>\n",
       "      <td>60-80</td>\n",
       "      <td>female</td>\n",
       "      <td>1.000000</td>\n",
       "    </tr>\n",
       "    <tr>\n",
       "      <th>2</th>\n",
       "      <td>20-40</td>\n",
       "      <td>female</td>\n",
       "      <td>0.756614</td>\n",
       "    </tr>\n",
       "    <tr>\n",
       "      <th>4</th>\n",
       "      <td>40-60</td>\n",
       "      <td>female</td>\n",
       "      <td>0.755556</td>\n",
       "    </tr>\n",
       "    <tr>\n",
       "      <th>0</th>\n",
       "      <td>0-20</td>\n",
       "      <td>female</td>\n",
       "      <td>0.688312</td>\n",
       "    </tr>\n",
       "    <tr>\n",
       "      <th>1</th>\n",
       "      <td>0-20</td>\n",
       "      <td>male</td>\n",
       "      <td>0.284314</td>\n",
       "    </tr>\n",
       "    <tr>\n",
       "      <th>5</th>\n",
       "      <td>40-60</td>\n",
       "      <td>male</td>\n",
       "      <td>0.192771</td>\n",
       "    </tr>\n",
       "    <tr>\n",
       "      <th>3</th>\n",
       "      <td>20-40</td>\n",
       "      <td>male</td>\n",
       "      <td>0.166220</td>\n",
       "    </tr>\n",
       "    <tr>\n",
       "      <th>7</th>\n",
       "      <td>60-80</td>\n",
       "      <td>male</td>\n",
       "      <td>0.105263</td>\n",
       "    </tr>\n",
       "  </tbody>\n",
       "</table>\n",
       "</div>"
      ],
      "text/plain": [
       "  Age_bands     Sex  Survived\n",
       "6     60-80  female  1.000000\n",
       "2     20-40  female  0.756614\n",
       "4     40-60  female  0.755556\n",
       "0      0-20  female  0.688312\n",
       "1      0-20    male  0.284314\n",
       "5     40-60    male  0.192771\n",
       "3     20-40    male  0.166220\n",
       "7     60-80    male  0.105263"
      ]
     },
     "execution_count": 25,
     "metadata": {},
     "output_type": "execute_result"
    }
   ],
   "source": [
    "titanic_df[['Age_bands','Sex', 'Survived']].groupby(['Age_bands','Sex'], as_index=False).mean().sort_values(by='Survived', ascending=False)"
   ]
  },
  {
   "cell_type": "code",
   "execution_count": 26,
   "id": "31b071ae",
   "metadata": {},
   "outputs": [],
   "source": [
    "fare_labels= ['0-100', '100-200', '200-300', '300-400','400-500','500-600']\n",
    "titanic_df['Fare_Ranges'] = pd.cut(titanic_df['Fare'], bins=6,right=True,labels=fare_labels)"
   ]
  },
  {
   "cell_type": "code",
   "execution_count": 27,
   "id": "6de5fc0d",
   "metadata": {},
   "outputs": [
    {
     "data": {
      "image/png": "[encoded data removed]",
      "text/plain": [
       "<Figure size 1080x288 with 2 Axes>"
      ]
     },
     "metadata": {
      "needs_background": "light"
     },
     "output_type": "display_data"
    }
   ],
   "source": [
    "fig=plt.figure(figsize=(15,4))\n",
    "plt.subplot(1,2,1)\n",
    "sns.barplot(x ='Fare_Ranges', y ='Survived',data = titanic_df)\n",
    "\n",
    "plt.subplot(1,2,2)\n",
    "sns.barplot(x ='Fare_Ranges', y ='Survived',hue='Sex',data = titanic_df)\n",
    "\n",
    "plt.show()\n"
   ]
  },
  {
   "cell_type": "code",
   "execution_count": 28,
   "id": "723cdb2a",
   "metadata": {},
   "outputs": [
    {
     "data": {
      "text/html": [
       "<div>\n",
       "<style scoped>\n",
       "    .dataframe tbody tr th:only-of-type {\n",
       "        vertical-align: middle;\n",
       "    }\n",
       "\n",
       "    .dataframe tbody tr th {\n",
       "        vertical-align: top;\n",
       "    }\n",
       "\n",
       "    .dataframe thead th {\n",
       "        text-align: right;\n",
       "    }\n",
       "</style>\n",
       "<table border=\"1\" class=\"dataframe\">\n",
       "  <thead>\n",
       "    <tr style=\"text-align: right;\">\n",
       "      <th></th>\n",
       "      <th>Fare_Ranges</th>\n",
       "      <th>Survived</th>\n",
       "    </tr>\n",
       "  </thead>\n",
       "  <tbody>\n",
       "    <tr>\n",
       "      <th>5</th>\n",
       "      <td>500-600</td>\n",
       "      <td>1.000000</td>\n",
       "    </tr>\n",
       "    <tr>\n",
       "      <th>1</th>\n",
       "      <td>100-200</td>\n",
       "      <td>0.804348</td>\n",
       "    </tr>\n",
       "    <tr>\n",
       "      <th>3</th>\n",
       "      <td>300-400</td>\n",
       "      <td>0.666667</td>\n",
       "    </tr>\n",
       "    <tr>\n",
       "      <th>2</th>\n",
       "      <td>200-300</td>\n",
       "      <td>0.636364</td>\n",
       "    </tr>\n",
       "    <tr>\n",
       "      <th>0</th>\n",
       "      <td>0-100</td>\n",
       "      <td>0.352727</td>\n",
       "    </tr>\n",
       "    <tr>\n",
       "      <th>4</th>\n",
       "      <td>400-500</td>\n",
       "      <td>NaN</td>\n",
       "    </tr>\n",
       "  </tbody>\n",
       "</table>\n",
       "</div>"
      ],
      "text/plain": [
       "  Fare_Ranges  Survived\n",
       "5     500-600  1.000000\n",
       "1     100-200  0.804348\n",
       "3     300-400  0.666667\n",
       "2     200-300  0.636364\n",
       "0       0-100  0.352727\n",
       "4     400-500       NaN"
      ]
     },
     "execution_count": 28,
     "metadata": {},
     "output_type": "execute_result"
    }
   ],
   "source": [
    "titanic_df[['Fare_Ranges', 'Survived']].groupby(['Fare_Ranges'], as_index=False).mean().sort_values(by='Survived', ascending=False)"
   ]
  },
  {
   "cell_type": "code",
   "execution_count": 29,
   "id": "c93b8a86",
   "metadata": {},
   "outputs": [
    {
     "data": {
      "text/html": [
       "<div>\n",
       "<style scoped>\n",
       "    .dataframe tbody tr th:only-of-type {\n",
       "        vertical-align: middle;\n",
       "    }\n",
       "\n",
       "    .dataframe tbody tr th {\n",
       "        vertical-align: top;\n",
       "    }\n",
       "\n",
       "    .dataframe thead th {\n",
       "        text-align: right;\n",
       "    }\n",
       "</style>\n",
       "<table border=\"1\" class=\"dataframe\">\n",
       "  <thead>\n",
       "    <tr style=\"text-align: right;\">\n",
       "      <th></th>\n",
       "      <th>Fare_Ranges</th>\n",
       "      <th>Sex</th>\n",
       "      <th>Survived</th>\n",
       "    </tr>\n",
       "  </thead>\n",
       "  <tbody>\n",
       "    <tr>\n",
       "      <th>4</th>\n",
       "      <td>200-300</td>\n",
       "      <td>female</td>\n",
       "      <td>1.000000</td>\n",
       "    </tr>\n",
       "    <tr>\n",
       "      <th>6</th>\n",
       "      <td>300-400</td>\n",
       "      <td>female</td>\n",
       "      <td>1.000000</td>\n",
       "    </tr>\n",
       "    <tr>\n",
       "      <th>10</th>\n",
       "      <td>500-600</td>\n",
       "      <td>female</td>\n",
       "      <td>1.000000</td>\n",
       "    </tr>\n",
       "    <tr>\n",
       "      <th>11</th>\n",
       "      <td>500-600</td>\n",
       "      <td>male</td>\n",
       "      <td>1.000000</td>\n",
       "    </tr>\n",
       "    <tr>\n",
       "      <th>2</th>\n",
       "      <td>100-200</td>\n",
       "      <td>female</td>\n",
       "      <td>0.935484</td>\n",
       "    </tr>\n",
       "    <tr>\n",
       "      <th>0</th>\n",
       "      <td>0-100</td>\n",
       "      <td>female</td>\n",
       "      <td>0.708487</td>\n",
       "    </tr>\n",
       "    <tr>\n",
       "      <th>3</th>\n",
       "      <td>100-200</td>\n",
       "      <td>male</td>\n",
       "      <td>0.533333</td>\n",
       "    </tr>\n",
       "    <tr>\n",
       "      <th>1</th>\n",
       "      <td>0-100</td>\n",
       "      <td>male</td>\n",
       "      <td>0.178700</td>\n",
       "    </tr>\n",
       "    <tr>\n",
       "      <th>5</th>\n",
       "      <td>200-300</td>\n",
       "      <td>male</td>\n",
       "      <td>0.000000</td>\n",
       "    </tr>\n",
       "    <tr>\n",
       "      <th>7</th>\n",
       "      <td>300-400</td>\n",
       "      <td>male</td>\n",
       "      <td>0.000000</td>\n",
       "    </tr>\n",
       "    <tr>\n",
       "      <th>8</th>\n",
       "      <td>400-500</td>\n",
       "      <td>female</td>\n",
       "      <td>NaN</td>\n",
       "    </tr>\n",
       "    <tr>\n",
       "      <th>9</th>\n",
       "      <td>400-500</td>\n",
       "      <td>male</td>\n",
       "      <td>NaN</td>\n",
       "    </tr>\n",
       "  </tbody>\n",
       "</table>\n",
       "</div>"
      ],
      "text/plain": [
       "   Fare_Ranges     Sex  Survived\n",
       "4      200-300  female  1.000000\n",
       "6      300-400  female  1.000000\n",
       "10     500-600  female  1.000000\n",
       "11     500-600    male  1.000000\n",
       "2      100-200  female  0.935484\n",
       "0        0-100  female  0.708487\n",
       "3      100-200    male  0.533333\n",
       "1        0-100    male  0.178700\n",
       "5      200-300    male  0.000000\n",
       "7      300-400    male  0.000000\n",
       "8      400-500  female       NaN\n",
       "9      400-500    male       NaN"
      ]
     },
     "execution_count": 29,
     "metadata": {},
     "output_type": "execute_result"
    }
   ],
   "source": [
    "titanic_df[['Fare_Ranges', 'Sex','Survived']].groupby(['Fare_Ranges','Sex'], as_index=False).mean().sort_values(by='Survived', ascending=False)"
   ]
  },
  {
   "cell_type": "code",
   "execution_count": 30,
   "id": "743ffa9d",
   "metadata": {},
   "outputs": [],
   "source": [
    "titanic_df['FamSize'] = titanic_df[\"SibSp\"] + titanic_df[\"Parch\"] + 1"
   ]
  },
  {
   "cell_type": "code",
   "execution_count": 31,
   "id": "0005c76e",
   "metadata": {},
   "outputs": [
    {
     "data": {
      "text/html": [
       "<div>\n",
       "<style scoped>\n",
       "    .dataframe tbody tr th:only-of-type {\n",
       "        vertical-align: middle;\n",
       "    }\n",
       "\n",
       "    .dataframe tbody tr th {\n",
       "        vertical-align: top;\n",
       "    }\n",
       "\n",
       "    .dataframe thead th {\n",
       "        text-align: right;\n",
       "    }\n",
       "</style>\n",
       "<table border=\"1\" class=\"dataframe\">\n",
       "  <thead>\n",
       "    <tr style=\"text-align: right;\">\n",
       "      <th></th>\n",
       "      <th>FamSize</th>\n",
       "      <th>Survived</th>\n",
       "    </tr>\n",
       "  </thead>\n",
       "  <tbody>\n",
       "    <tr>\n",
       "      <th>3</th>\n",
       "      <td>4</td>\n",
       "      <td>0.724138</td>\n",
       "    </tr>\n",
       "    <tr>\n",
       "      <th>2</th>\n",
       "      <td>3</td>\n",
       "      <td>0.578431</td>\n",
       "    </tr>\n",
       "    <tr>\n",
       "      <th>1</th>\n",
       "      <td>2</td>\n",
       "      <td>0.552795</td>\n",
       "    </tr>\n",
       "    <tr>\n",
       "      <th>6</th>\n",
       "      <td>7</td>\n",
       "      <td>0.333333</td>\n",
       "    </tr>\n",
       "    <tr>\n",
       "      <th>0</th>\n",
       "      <td>1</td>\n",
       "      <td>0.303538</td>\n",
       "    </tr>\n",
       "    <tr>\n",
       "      <th>4</th>\n",
       "      <td>5</td>\n",
       "      <td>0.200000</td>\n",
       "    </tr>\n",
       "    <tr>\n",
       "      <th>5</th>\n",
       "      <td>6</td>\n",
       "      <td>0.136364</td>\n",
       "    </tr>\n",
       "    <tr>\n",
       "      <th>7</th>\n",
       "      <td>8</td>\n",
       "      <td>0.000000</td>\n",
       "    </tr>\n",
       "    <tr>\n",
       "      <th>8</th>\n",
       "      <td>11</td>\n",
       "      <td>0.000000</td>\n",
       "    </tr>\n",
       "  </tbody>\n",
       "</table>\n",
       "</div>"
      ],
      "text/plain": [
       "   FamSize  Survived\n",
       "3        4  0.724138\n",
       "2        3  0.578431\n",
       "1        2  0.552795\n",
       "6        7  0.333333\n",
       "0        1  0.303538\n",
       "4        5  0.200000\n",
       "5        6  0.136364\n",
       "7        8  0.000000\n",
       "8       11  0.000000"
      ]
     },
     "execution_count": 31,
     "metadata": {},
     "output_type": "execute_result"
    }
   ],
   "source": [
    "titanic_df[['FamSize','Survived']].groupby(['FamSize'],as_index=False).mean().sort_values(by='Survived',ascending=False)"
   ]
  },
  {
   "cell_type": "code",
   "execution_count": 32,
   "id": "a9bd801f",
   "metadata": {},
   "outputs": [
    {
     "data": {
      "text/plain": [
       "<AxesSubplot:xlabel='FamSize', ylabel='Survived'>"
      ]
     },
     "execution_count": 32,
     "metadata": {},
     "output_type": "execute_result"
    },
    {
     "data": {
      "image/png": "[encoded data removed]",
      "text/plain": [
       "<Figure size 432x288 with 1 Axes>"
      ]
     },
     "metadata": {
      "needs_background": "light"
     },
     "output_type": "display_data"
    }
   ],
   "source": [
    "sns.barplot(x ='FamSize', y ='Survived',data = titanic_df)"
   ]
  },
  {
   "cell_type": "code",
   "execution_count": 33,
   "id": "ef2be5df",
   "metadata": {},
   "outputs": [
    {
     "name": "stdout",
     "output_type": "stream",
     "text": [
      "<class 'pandas.core.frame.DataFrame'>\n",
      "RangeIndex: 891 entries, 0 to 890\n",
      "Data columns (total 15 columns):\n",
      " #   Column       Non-Null Count  Dtype   \n",
      "---  ------       --------------  -----   \n",
      " 0   PassengerId  891 non-null    int64   \n",
      " 1   Survived     891 non-null    int64   \n",
      " 2   Pclass       891 non-null    int64   \n",
      " 3   Name         891 non-null    object  \n",
      " 4   Sex          891 non-null    object  \n",
      " 5   Age          891 non-null    float64 \n",
      " 6   SibSp        891 non-null    int64   \n",
      " 7   Parch        891 non-null    int64   \n",
      " 8   Ticket       891 non-null    object  \n",
      " 9   Fare         891 non-null    float64 \n",
      " 10  Cabin        891 non-null    object  \n",
      " 11  Embarked     891 non-null    object  \n",
      " 12  Age_bands    891 non-null    category\n",
      " 13  Fare_Ranges  891 non-null    category\n",
      " 14  FamSize      891 non-null    int64   \n",
      "dtypes: category(2), float64(2), int64(6), object(5)\n",
      "memory usage: 92.8+ KB\n"
     ]
    }
   ],
   "source": [
    "titanic_df.info()"
   ]
  },
  {
   "cell_type": "code",
   "execution_count": 34,
   "id": "5da24fc1",
   "metadata": {},
   "outputs": [],
   "source": [
    "X=titanic_df[['Pclass','Sex','Age','Fare','Embarked','Age_bands','Fare_Ranges','FamSize']]"
   ]
  },
  {
   "cell_type": "code",
   "execution_count": 35,
   "id": "6b211d7e",
   "metadata": {},
   "outputs": [],
   "source": [
    "Y=titanic_df['Survived']"
   ]
  },
  {
   "cell_type": "code",
   "execution_count": 36,
   "id": "29415b25",
   "metadata": {},
   "outputs": [
    {
     "name": "stdout",
     "output_type": "stream",
     "text": [
      "<class 'pandas.core.frame.DataFrame'>\n",
      "RangeIndex: 891 entries, 0 to 890\n",
      "Data columns (total 8 columns):\n",
      " #   Column       Non-Null Count  Dtype   \n",
      "---  ------       --------------  -----   \n",
      " 0   Pclass       891 non-null    int64   \n",
      " 1   Sex          891 non-null    object  \n",
      " 2   Age          891 non-null    float64 \n",
      " 3   Fare         891 non-null    float64 \n",
      " 4   Embarked     891 non-null    object  \n",
      " 5   Age_bands    891 non-null    category\n",
      " 6   Fare_Ranges  891 non-null    category\n",
      " 7   FamSize      891 non-null    int64   \n",
      "dtypes: category(2), float64(2), int64(2), object(2)\n",
      "memory usage: 44.0+ KB\n"
     ]
    }
   ],
   "source": [
    "X.info()"
   ]
  },
  {
   "cell_type": "code",
   "execution_count": null,
   "id": "b886608a",
   "metadata": {},
   "outputs": [],
   "source": [
    "#Convert the categorical/object type features to numeric"
   ]
  },
  {
   "cell_type": "markdown",
   "id": "37ba7413",
   "metadata": {},
   "source": [
    "    1.The Sex and Embarked features do not have order so we can use OHE\n",
    "    2.For the Age bands and Fare_Range we can use label encoding"
   ]
  },
  {
   "cell_type": "code",
   "execution_count": 37,
   "id": "e912a63b",
   "metadata": {},
   "outputs": [],
   "source": [
    "ohe=OneHotEncoder()"
   ]
  },
  {
   "cell_type": "code",
   "execution_count": 38,
   "id": "ae96b90e",
   "metadata": {},
   "outputs": [],
   "source": [
    "ohe_encoded=ohe.fit_transform(X[['Sex','Embarked']]).toarray()"
   ]
  },
  {
   "cell_type": "code",
   "execution_count": 39,
   "id": "ba1dfa16",
   "metadata": {},
   "outputs": [],
   "source": [
    "ohe_df=pd.DataFrame(ohe_encoded,columns=['F', 'M', 'C','Q','S'])"
   ]
  },
  {
   "cell_type": "code",
   "execution_count": 40,
   "id": "88253070",
   "metadata": {},
   "outputs": [],
   "source": [
    "X=pd.concat([X,ohe_df],axis=1)"
   ]
  },
  {
   "cell_type": "code",
   "execution_count": 41,
   "id": "a0c38b15",
   "metadata": {},
   "outputs": [],
   "source": [
    "X.drop(['Sex','Embarked'],axis=1,inplace=True)"
   ]
  },
  {
   "cell_type": "code",
   "execution_count": 42,
   "id": "6a06c76b",
   "metadata": {},
   "outputs": [],
   "source": [
    "le=LabelEncoder()"
   ]
  },
  {
   "cell_type": "code",
   "execution_count": 43,
   "id": "54d04b7b",
   "metadata": {},
   "outputs": [],
   "source": [
    "X['Age_bands']=le.fit_transform(X[['Age_bands']])\n",
    "X['Fare_Ranges']=le.fit_transform(X[['Fare_Ranges']])"
   ]
  },
  {
   "cell_type": "code",
   "execution_count": 44,
   "id": "167df62e",
   "metadata": {},
   "outputs": [
    {
     "name": "stdout",
     "output_type": "stream",
     "text": [
      "<class 'pandas.core.frame.DataFrame'>\n",
      "RangeIndex: 891 entries, 0 to 890\n",
      "Data columns (total 11 columns):\n",
      " #   Column       Non-Null Count  Dtype  \n",
      "---  ------       --------------  -----  \n",
      " 0   Pclass       891 non-null    int64  \n",
      " 1   Age          891 non-null    float64\n",
      " 2   Fare         891 non-null    float64\n",
      " 3   Age_bands    891 non-null    int32  \n",
      " 4   Fare_Ranges  891 non-null    int32  \n",
      " 5   FamSize      891 non-null    int64  \n",
      " 6   F            891 non-null    float64\n",
      " 7   M            891 non-null    float64\n",
      " 8   C            891 non-null    float64\n",
      " 9   Q            891 non-null    float64\n",
      " 10  S            891 non-null    float64\n",
      "dtypes: float64(7), int32(2), int64(2)\n",
      "memory usage: 69.7 KB\n"
     ]
    }
   ],
   "source": [
    "X.info()"
   ]
  },
  {
   "cell_type": "code",
   "execution_count": 45,
   "id": "a8ed5a08",
   "metadata": {},
   "outputs": [
    {
     "data": {
      "text/html": [
       "<div>\n",
       "<style scoped>\n",
       "    .dataframe tbody tr th:only-of-type {\n",
       "        vertical-align: middle;\n",
       "    }\n",
       "\n",
       "    .dataframe tbody tr th {\n",
       "        vertical-align: top;\n",
       "    }\n",
       "\n",
       "    .dataframe thead th {\n",
       "        text-align: right;\n",
       "    }\n",
       "</style>\n",
       "<table border=\"1\" class=\"dataframe\">\n",
       "  <thead>\n",
       "    <tr style=\"text-align: right;\">\n",
       "      <th></th>\n",
       "      <th>Pclass</th>\n",
       "      <th>Age</th>\n",
       "      <th>Fare</th>\n",
       "      <th>Age_bands</th>\n",
       "      <th>Fare_Ranges</th>\n",
       "      <th>FamSize</th>\n",
       "      <th>F</th>\n",
       "      <th>M</th>\n",
       "      <th>C</th>\n",
       "      <th>Q</th>\n",
       "      <th>S</th>\n",
       "    </tr>\n",
       "  </thead>\n",
       "  <tbody>\n",
       "    <tr>\n",
       "      <th>0</th>\n",
       "      <td>3</td>\n",
       "      <td>22.0</td>\n",
       "      <td>7.2500</td>\n",
       "      <td>1</td>\n",
       "      <td>0</td>\n",
       "      <td>2</td>\n",
       "      <td>0.0</td>\n",
       "      <td>1.0</td>\n",
       "      <td>0.0</td>\n",
       "      <td>0.0</td>\n",
       "      <td>1.0</td>\n",
       "    </tr>\n",
       "    <tr>\n",
       "      <th>1</th>\n",
       "      <td>1</td>\n",
       "      <td>38.0</td>\n",
       "      <td>71.2833</td>\n",
       "      <td>1</td>\n",
       "      <td>0</td>\n",
       "      <td>2</td>\n",
       "      <td>1.0</td>\n",
       "      <td>0.0</td>\n",
       "      <td>1.0</td>\n",
       "      <td>0.0</td>\n",
       "      <td>0.0</td>\n",
       "    </tr>\n",
       "    <tr>\n",
       "      <th>2</th>\n",
       "      <td>3</td>\n",
       "      <td>26.0</td>\n",
       "      <td>7.9250</td>\n",
       "      <td>1</td>\n",
       "      <td>0</td>\n",
       "      <td>1</td>\n",
       "      <td>1.0</td>\n",
       "      <td>0.0</td>\n",
       "      <td>0.0</td>\n",
       "      <td>0.0</td>\n",
       "      <td>1.0</td>\n",
       "    </tr>\n",
       "    <tr>\n",
       "      <th>3</th>\n",
       "      <td>1</td>\n",
       "      <td>35.0</td>\n",
       "      <td>53.1000</td>\n",
       "      <td>1</td>\n",
       "      <td>0</td>\n",
       "      <td>2</td>\n",
       "      <td>1.0</td>\n",
       "      <td>0.0</td>\n",
       "      <td>0.0</td>\n",
       "      <td>0.0</td>\n",
       "      <td>1.0</td>\n",
       "    </tr>\n",
       "    <tr>\n",
       "      <th>4</th>\n",
       "      <td>3</td>\n",
       "      <td>35.0</td>\n",
       "      <td>8.0500</td>\n",
       "      <td>1</td>\n",
       "      <td>0</td>\n",
       "      <td>1</td>\n",
       "      <td>0.0</td>\n",
       "      <td>1.0</td>\n",
       "      <td>0.0</td>\n",
       "      <td>0.0</td>\n",
       "      <td>1.0</td>\n",
       "    </tr>\n",
       "  </tbody>\n",
       "</table>\n",
       "</div>"
      ],
      "text/plain": [
       "   Pclass   Age     Fare  Age_bands  Fare_Ranges  FamSize    F    M    C    Q  \\\n",
       "0       3  22.0   7.2500          1            0        2  0.0  1.0  0.0  0.0   \n",
       "1       1  38.0  71.2833          1            0        2  1.0  0.0  1.0  0.0   \n",
       "2       3  26.0   7.9250          1            0        1  1.0  0.0  0.0  0.0   \n",
       "3       1  35.0  53.1000          1            0        2  1.0  0.0  0.0  0.0   \n",
       "4       3  35.0   8.0500          1            0        1  0.0  1.0  0.0  0.0   \n",
       "\n",
       "     S  \n",
       "0  1.0  \n",
       "1  0.0  \n",
       "2  1.0  \n",
       "3  1.0  \n",
       "4  1.0  "
      ]
     },
     "execution_count": 45,
     "metadata": {},
     "output_type": "execute_result"
    }
   ],
   "source": [
    "X.head()"
   ]
  },
  {
   "cell_type": "code",
   "execution_count": null,
   "id": "4c6ec207",
   "metadata": {},
   "outputs": [],
   "source": [
    "#All the columns are now converted to categorical"
   ]
  },
  {
   "cell_type": "markdown",
   "id": "96e1c0a1",
   "metadata": {},
   "source": [
    "### The train and test data are ready with new features and all the missing values treated. \n",
    "### All columns are in numeric format"
   ]
  },
  {
   "cell_type": "code",
   "execution_count": 46,
   "id": "4772e4d8",
   "metadata": {},
   "outputs": [],
   "source": [
    "temp=pd.concat([X,Y],axis=1)"
   ]
  },
  {
   "cell_type": "code",
   "execution_count": 47,
   "id": "f3f4ce1f",
   "metadata": {},
   "outputs": [
    {
     "data": {
      "text/html": [
       "<div>\n",
       "<style scoped>\n",
       "    .dataframe tbody tr th:only-of-type {\n",
       "        vertical-align: middle;\n",
       "    }\n",
       "\n",
       "    .dataframe tbody tr th {\n",
       "        vertical-align: top;\n",
       "    }\n",
       "\n",
       "    .dataframe thead th {\n",
       "        text-align: right;\n",
       "    }\n",
       "</style>\n",
       "<table border=\"1\" class=\"dataframe\">\n",
       "  <thead>\n",
       "    <tr style=\"text-align: right;\">\n",
       "      <th></th>\n",
       "      <th>Pclass</th>\n",
       "      <th>Age</th>\n",
       "      <th>Fare</th>\n",
       "      <th>Age_bands</th>\n",
       "      <th>Fare_Ranges</th>\n",
       "      <th>FamSize</th>\n",
       "      <th>F</th>\n",
       "      <th>M</th>\n",
       "      <th>C</th>\n",
       "      <th>Q</th>\n",
       "      <th>S</th>\n",
       "      <th>Survived</th>\n",
       "    </tr>\n",
       "  </thead>\n",
       "  <tbody>\n",
       "    <tr>\n",
       "      <th>0</th>\n",
       "      <td>3</td>\n",
       "      <td>22.0</td>\n",
       "      <td>7.2500</td>\n",
       "      <td>1</td>\n",
       "      <td>0</td>\n",
       "      <td>2</td>\n",
       "      <td>0.0</td>\n",
       "      <td>1.0</td>\n",
       "      <td>0.0</td>\n",
       "      <td>0.0</td>\n",
       "      <td>1.0</td>\n",
       "      <td>0</td>\n",
       "    </tr>\n",
       "    <tr>\n",
       "      <th>1</th>\n",
       "      <td>1</td>\n",
       "      <td>38.0</td>\n",
       "      <td>71.2833</td>\n",
       "      <td>1</td>\n",
       "      <td>0</td>\n",
       "      <td>2</td>\n",
       "      <td>1.0</td>\n",
       "      <td>0.0</td>\n",
       "      <td>1.0</td>\n",
       "      <td>0.0</td>\n",
       "      <td>0.0</td>\n",
       "      <td>1</td>\n",
       "    </tr>\n",
       "    <tr>\n",
       "      <th>2</th>\n",
       "      <td>3</td>\n",
       "      <td>26.0</td>\n",
       "      <td>7.9250</td>\n",
       "      <td>1</td>\n",
       "      <td>0</td>\n",
       "      <td>1</td>\n",
       "      <td>1.0</td>\n",
       "      <td>0.0</td>\n",
       "      <td>0.0</td>\n",
       "      <td>0.0</td>\n",
       "      <td>1.0</td>\n",
       "      <td>1</td>\n",
       "    </tr>\n",
       "    <tr>\n",
       "      <th>3</th>\n",
       "      <td>1</td>\n",
       "      <td>35.0</td>\n",
       "      <td>53.1000</td>\n",
       "      <td>1</td>\n",
       "      <td>0</td>\n",
       "      <td>2</td>\n",
       "      <td>1.0</td>\n",
       "      <td>0.0</td>\n",
       "      <td>0.0</td>\n",
       "      <td>0.0</td>\n",
       "      <td>1.0</td>\n",
       "      <td>1</td>\n",
       "    </tr>\n",
       "    <tr>\n",
       "      <th>4</th>\n",
       "      <td>3</td>\n",
       "      <td>35.0</td>\n",
       "      <td>8.0500</td>\n",
       "      <td>1</td>\n",
       "      <td>0</td>\n",
       "      <td>1</td>\n",
       "      <td>0.0</td>\n",
       "      <td>1.0</td>\n",
       "      <td>0.0</td>\n",
       "      <td>0.0</td>\n",
       "      <td>1.0</td>\n",
       "      <td>0</td>\n",
       "    </tr>\n",
       "    <tr>\n",
       "      <th>...</th>\n",
       "      <td>...</td>\n",
       "      <td>...</td>\n",
       "      <td>...</td>\n",
       "      <td>...</td>\n",
       "      <td>...</td>\n",
       "      <td>...</td>\n",
       "      <td>...</td>\n",
       "      <td>...</td>\n",
       "      <td>...</td>\n",
       "      <td>...</td>\n",
       "      <td>...</td>\n",
       "      <td>...</td>\n",
       "    </tr>\n",
       "    <tr>\n",
       "      <th>886</th>\n",
       "      <td>2</td>\n",
       "      <td>27.0</td>\n",
       "      <td>13.0000</td>\n",
       "      <td>1</td>\n",
       "      <td>0</td>\n",
       "      <td>1</td>\n",
       "      <td>0.0</td>\n",
       "      <td>1.0</td>\n",
       "      <td>0.0</td>\n",
       "      <td>0.0</td>\n",
       "      <td>1.0</td>\n",
       "      <td>0</td>\n",
       "    </tr>\n",
       "    <tr>\n",
       "      <th>887</th>\n",
       "      <td>1</td>\n",
       "      <td>19.0</td>\n",
       "      <td>30.0000</td>\n",
       "      <td>0</td>\n",
       "      <td>0</td>\n",
       "      <td>1</td>\n",
       "      <td>1.0</td>\n",
       "      <td>0.0</td>\n",
       "      <td>0.0</td>\n",
       "      <td>0.0</td>\n",
       "      <td>1.0</td>\n",
       "      <td>1</td>\n",
       "    </tr>\n",
       "    <tr>\n",
       "      <th>888</th>\n",
       "      <td>3</td>\n",
       "      <td>28.0</td>\n",
       "      <td>23.4500</td>\n",
       "      <td>1</td>\n",
       "      <td>0</td>\n",
       "      <td>4</td>\n",
       "      <td>1.0</td>\n",
       "      <td>0.0</td>\n",
       "      <td>0.0</td>\n",
       "      <td>0.0</td>\n",
       "      <td>1.0</td>\n",
       "      <td>0</td>\n",
       "    </tr>\n",
       "    <tr>\n",
       "      <th>889</th>\n",
       "      <td>1</td>\n",
       "      <td>26.0</td>\n",
       "      <td>30.0000</td>\n",
       "      <td>1</td>\n",
       "      <td>0</td>\n",
       "      <td>1</td>\n",
       "      <td>0.0</td>\n",
       "      <td>1.0</td>\n",
       "      <td>1.0</td>\n",
       "      <td>0.0</td>\n",
       "      <td>0.0</td>\n",
       "      <td>1</td>\n",
       "    </tr>\n",
       "    <tr>\n",
       "      <th>890</th>\n",
       "      <td>3</td>\n",
       "      <td>32.0</td>\n",
       "      <td>7.7500</td>\n",
       "      <td>1</td>\n",
       "      <td>0</td>\n",
       "      <td>1</td>\n",
       "      <td>0.0</td>\n",
       "      <td>1.0</td>\n",
       "      <td>0.0</td>\n",
       "      <td>1.0</td>\n",
       "      <td>0.0</td>\n",
       "      <td>0</td>\n",
       "    </tr>\n",
       "  </tbody>\n",
       "</table>\n",
       "<p>891 rows × 12 columns</p>\n",
       "</div>"
      ],
      "text/plain": [
       "     Pclass   Age     Fare  Age_bands  Fare_Ranges  FamSize    F    M    C  \\\n",
       "0         3  22.0   7.2500          1            0        2  0.0  1.0  0.0   \n",
       "1         1  38.0  71.2833          1            0        2  1.0  0.0  1.0   \n",
       "2         3  26.0   7.9250          1            0        1  1.0  0.0  0.0   \n",
       "3         1  35.0  53.1000          1            0        2  1.0  0.0  0.0   \n",
       "4         3  35.0   8.0500          1            0        1  0.0  1.0  0.0   \n",
       "..      ...   ...      ...        ...          ...      ...  ...  ...  ...   \n",
       "886       2  27.0  13.0000          1            0        1  0.0  1.0  0.0   \n",
       "887       1  19.0  30.0000          0            0        1  1.0  0.0  0.0   \n",
       "888       3  28.0  23.4500          1            0        4  1.0  0.0  0.0   \n",
       "889       1  26.0  30.0000          1            0        1  0.0  1.0  1.0   \n",
       "890       3  32.0   7.7500          1            0        1  0.0  1.0  0.0   \n",
       "\n",
       "       Q    S  Survived  \n",
       "0    0.0  1.0         0  \n",
       "1    0.0  0.0         1  \n",
       "2    0.0  1.0         1  \n",
       "3    0.0  1.0         1  \n",
       "4    0.0  1.0         0  \n",
       "..   ...  ...       ...  \n",
       "886  0.0  1.0         0  \n",
       "887  0.0  1.0         1  \n",
       "888  0.0  1.0         0  \n",
       "889  0.0  0.0         1  \n",
       "890  1.0  0.0         0  \n",
       "\n",
       "[891 rows x 12 columns]"
      ]
     },
     "execution_count": 47,
     "metadata": {},
     "output_type": "execute_result"
    }
   ],
   "source": [
    "temp.rename(columns={\"0\": \"Survived\"})"
   ]
  },
  {
   "cell_type": "code",
   "execution_count": 48,
   "id": "9a1aba47",
   "metadata": {},
   "outputs": [],
   "source": [
    "correlation_matrix=temp.corr()"
   ]
  },
  {
   "cell_type": "code",
   "execution_count": 49,
   "id": "5081d51e",
   "metadata": {},
   "outputs": [
    {
     "data": {
      "text/plain": [
       "<AxesSubplot:>"
      ]
     },
     "execution_count": 49,
     "metadata": {},
     "output_type": "execute_result"
    },
    {
     "data": {
      "image/png": "[encoded data removed]",
      "text/plain": [
       "<Figure size 720x720 with 2 Axes>"
      ]
     },
     "metadata": {
      "needs_background": "light"
     },
     "output_type": "display_data"
    }
   ],
   "source": [
    "plt.figure(figsize=(10,10))\n",
    "sns.heatmap(correlation_matrix,annot=True,fmt='.2g',square=True)"
   ]
  },
  {
   "cell_type": "markdown",
   "id": "39ecda1c",
   "metadata": {},
   "source": [
    "Only Age /Age-bands ; Fare/ Fare-bands are correlated with each other.\n",
    "The Male and Female are perfectly not correlated with each other."
   ]
  },
  {
   "cell_type": "code",
   "execution_count": 50,
   "id": "93b3fadd",
   "metadata": {},
   "outputs": [],
   "source": [
    "X_train,X_test,Y_train,Y_test=train_test_split(X,Y,test_size=0.20,stratify=Y,random_state=42)"
   ]
  },
  {
   "cell_type": "code",
   "execution_count": 51,
   "id": "2a474c29",
   "metadata": {},
   "outputs": [],
   "source": [
    "X_new=X"
   ]
  },
  {
   "cell_type": "code",
   "execution_count": 52,
   "id": "28bfe579",
   "metadata": {},
   "outputs": [],
   "source": [
    "#Scale the features for Logistic regression\n",
    "minmax_scaler=MinMaxScaler()\n",
    "X_new['Age']=minmax_scaler.fit_transform(X_new['Age'].values.reshape(-1,1))\n",
    "X_new['Fare']=minmax_scaler.fit_transform(X_new['Fare'].values.reshape(-1,1))"
   ]
  },
  {
   "cell_type": "code",
   "execution_count": 53,
   "id": "9f74f7d2",
   "metadata": {},
   "outputs": [],
   "source": [
    "X1_train,X1_test,Y1_train,Y1_test=train_test_split(X_new,Y,test_size=0.20,stratify=Y,random_state=42)"
   ]
  },
  {
   "cell_type": "markdown",
   "id": "cf1015a7",
   "metadata": {},
   "source": [
    "# 1.LOGISTIC REGRESSION"
   ]
  },
  {
   "cell_type": "markdown",
   "id": "9d4211cc",
   "metadata": {},
   "source": [
    "##### For logistic regression we shall use the X data which is feature scaled"
   ]
  },
  {
   "cell_type": "code",
   "execution_count": 54,
   "id": "f4d9e4ab",
   "metadata": {},
   "outputs": [
    {
     "data": {
      "text/plain": [
       "LogisticRegression(random_state=42)"
      ]
     },
     "execution_count": 54,
     "metadata": {},
     "output_type": "execute_result"
    }
   ],
   "source": [
    "lr=LogisticRegression(random_state=42)\n",
    "lr.fit(X1_train,Y1_train)"
   ]
  },
  {
   "cell_type": "code",
   "execution_count": 56,
   "id": "bc593c8e",
   "metadata": {},
   "outputs": [],
   "source": [
    "y_train_pred_lr=lr.predict(X1_train)\n",
    "y_test_pred_lr=lr.predict(X1_test)"
   ]
  },
  {
   "cell_type": "code",
   "execution_count": 57,
   "id": "129118f3",
   "metadata": {},
   "outputs": [
    {
     "name": "stdout",
     "output_type": "stream",
     "text": [
      "Training Accuracy:0.8019662921348315, Testing Accuracy:0.8044692737430168\n"
     ]
    }
   ],
   "source": [
    "print(\"Training Accuracy:{}, Testing Accuracy:{}\".format(accuracy_score(Y1_train,y_train_pred_lr),accuracy_score(Y1_test,y_test_pred_lr)))"
   ]
  },
  {
   "cell_type": "code",
   "execution_count": 58,
   "id": "eebac0cc",
   "metadata": {},
   "outputs": [],
   "source": [
    "train_acc_lr=lr.score(X1_train,Y1_train)\n",
    "test_acc_lr=lr.score(X1_test,Y1_test)"
   ]
  },
  {
   "cell_type": "code",
   "execution_count": 60,
   "id": "05e47b5d",
   "metadata": {},
   "outputs": [
    {
     "data": {
      "text/plain": [
       "array([0, 1], dtype=int64)"
      ]
     },
     "execution_count": 60,
     "metadata": {},
     "output_type": "execute_result"
    }
   ],
   "source": [
    "cm=confusion_matrix(Y1_test,y_test_pred)\n",
    "labels=lr.classes_\n",
    "labels"
   ]
  },
  {
   "cell_type": "code",
   "execution_count": 61,
   "id": "6d29afe0",
   "metadata": {},
   "outputs": [
    {
     "data": {
      "image/png": "[encoded data removed]",
      "text/plain": [
       "<Figure size 432x288 with 2 Axes>"
      ]
     },
     "metadata": {
      "needs_background": "light"
     },
     "output_type": "display_data"
    }
   ],
   "source": [
    "disp=ConfusionMatrixDisplay(cm,display_labels=['Not survived','Survived'])\n",
    "disp.plot()\n",
    "plt.show()"
   ]
  },
  {
   "cell_type": "code",
   "execution_count": 62,
   "id": "5889c70e",
   "metadata": {},
   "outputs": [
    {
     "name": "stdout",
     "output_type": "stream",
     "text": [
      "Classification report:              precision    recall  f1-score   support\n",
      "\n",
      "           0       0.82      0.88      0.85       110\n",
      "           1       0.78      0.68      0.73        69\n",
      "\n",
      "    accuracy                           0.80       179\n",
      "   macro avg       0.80      0.78      0.79       179\n",
      "weighted avg       0.80      0.80      0.80       179\n",
      "\n"
     ]
    }
   ],
   "source": [
    "print(\"Classification report:{}\".format(classification_report(Y1_test,y_test_pred)))"
   ]
  },
  {
   "cell_type": "markdown",
   "id": "b4ee1c28",
   "metadata": {},
   "source": [
    "### 1.1 Hyperparameter tuning for Logistic Regression"
   ]
  },
  {
   "cell_type": "code",
   "execution_count": 63,
   "id": "2451ff11",
   "metadata": {},
   "outputs": [],
   "source": [
    "param_grid = [    \n",
    "    {'penalty' : ['l1', 'l2', 'elasticnet', 'none'],\n",
    "    'C' : np.logspace(-4, 4, 20),\n",
    "    'solver' : ['lbfgs','liblinear'],\n",
    "    'max_iter' : [100, 200,300,400,500]\n",
    "    }\n",
    "]# As we have smaller dataset we choose the liblinear and lbfgs solver\n",
    "# Max iter is from 100 to 500 for convergence-(choosing minima)"
   ]
  },
  {
   "cell_type": "code",
   "execution_count": 64,
   "id": "76ff1afc",
   "metadata": {},
   "outputs": [],
   "source": [
    "grid = GridSearchCV(lr, param_grid = param_grid, scoring='accuracy',cv = 5, verbose=True, n_jobs=-1)"
   ]
  },
  {
   "cell_type": "markdown",
   "id": "860158fe",
   "metadata": {},
   "source": [
    "    1)4 * 20 * 2 * 5 = 800\n",
    "    2)1600 * 5 folds = 4000 fits"
   ]
  },
  {
   "cell_type": "code",
   "execution_count": 65,
   "id": "4d5906f3",
   "metadata": {
    "scrolled": true
   },
   "outputs": [
    {
     "name": "stdout",
     "output_type": "stream",
     "text": [
      "Fitting 5 folds for each of 800 candidates, totalling 4000 fits\n"
     ]
    }
   ],
   "source": [
    "best_clf = grid.fit(X1_train,Y1_train)"
   ]
  },
  {
   "cell_type": "code",
   "execution_count": 66,
   "id": "f9b6ce50",
   "metadata": {},
   "outputs": [
    {
     "name": "stdout",
     "output_type": "stream",
     "text": [
      "LogisticRegression(C=0.03359818286283781, random_state=42)\n",
      "0.8034275583571358\n"
     ]
    }
   ],
   "source": [
    "print(best_clf.best_estimator_)\n",
    "print(best_clf.best_score_)"
   ]
  },
  {
   "cell_type": "code",
   "execution_count": 67,
   "id": "e0a3b57b",
   "metadata": {},
   "outputs": [],
   "source": [
    "df=pd.DataFrame(best_clf.cv_results_)\n",
    "df=df.sort_values('rank_test_score')\n",
    "df.to_csv(\"lr_cvresults.csv\")"
   ]
  },
  {
   "cell_type": "code",
   "execution_count": 68,
   "id": "3dcd8ea0",
   "metadata": {},
   "outputs": [],
   "source": [
    "lr_gcv=best_clf.best_estimator_"
   ]
  },
  {
   "cell_type": "code",
   "execution_count": 69,
   "id": "e69b3d18",
   "metadata": {},
   "outputs": [],
   "source": [
    "y_train_pred_grid_lr=lr_gcv.predict(X1_train)\n",
    "y_test_pred_grid_lr=lr_gcv.predict(X1_test)"
   ]
  },
  {
   "cell_type": "code",
   "execution_count": 70,
   "id": "787b36c8",
   "metadata": {},
   "outputs": [
    {
     "name": "stdout",
     "output_type": "stream",
     "text": [
      "Training Accuracy:0.8146067415730337, Testing Accuracy:0.7821229050279329\n"
     ]
    }
   ],
   "source": [
    "print(\"Training Accuracy:{}, Testing Accuracy:{}\".format(accuracy_score(Y1_train,y_train_pred_grid_lr),accuracy_score(Y1_test,y_test_pred_grid_lr)))"
   ]
  },
  {
   "cell_type": "code",
   "execution_count": 73,
   "id": "3404cf48",
   "metadata": {},
   "outputs": [],
   "source": [
    "train_acc_grid_lr=accuracy_score(Y1_train,y_train_pred_grid_lr)\n",
    "test_acc_grid_lr=accuracy_score(Y1_test,y_test_pred_grid_lr)"
   ]
  },
  {
   "cell_type": "code",
   "execution_count": null,
   "id": "5eb89aa6",
   "metadata": {},
   "outputs": [],
   "source": [
    "## The Logistic regression in ths section 1. gives good results"
   ]
  },
  {
   "cell_type": "markdown",
   "id": "512a6d3a",
   "metadata": {},
   "source": [
    "# 2.KNN or k-Nearest Neighbors"
   ]
  },
  {
   "cell_type": "code",
   "execution_count": 75,
   "id": "d13024ca",
   "metadata": {},
   "outputs": [],
   "source": [
    "knn = KNeighborsClassifier()\n",
    "knn.fit(X_train, Y_train)\n",
    "y_train_pred = knn.predict(X_train)\n",
    "y_test_pred = knn.predict(X_test)"
   ]
  },
  {
   "cell_type": "code",
   "execution_count": 76,
   "id": "a6209b20",
   "metadata": {},
   "outputs": [],
   "source": [
    "train_accuracy = knn.score(X_train, Y_train) \n",
    "test_accuracy = knn.score(X_test, Y_test) "
   ]
  },
  {
   "cell_type": "code",
   "execution_count": 77,
   "id": "b8d9851c",
   "metadata": {},
   "outputs": [
    {
     "name": "stdout",
     "output_type": "stream",
     "text": [
      "Training Accuracy-KNN:80.9\n",
      "Test Accuracy-KNN:68.16\n"
     ]
    }
   ],
   "source": [
    "print(\"Training Accuracy-KNN:{}\".format(np.round(train_accuracy*100,2)))\n",
    "print(\"Test Accuracy-KNN:{}\".format(np.round(test_accuracy*100,2)))"
   ]
  },
  {
   "cell_type": "markdown",
   "id": "b2d2386d",
   "metadata": {},
   "source": [
    "We see that the test accuracy is drastically reduced. \n",
    "Try by normalising the data"
   ]
  },
  {
   "cell_type": "markdown",
   "id": "746dc771",
   "metadata": {},
   "source": [
    "   ### 2.1 KNN or k-Nearest Neighbors After MInMax Scaling "
   ]
  },
  {
   "cell_type": "code",
   "execution_count": 81,
   "id": "269e6fa5",
   "metadata": {},
   "outputs": [
    {
     "data": {
      "text/plain": [
       "KNeighborsClassifier()"
      ]
     },
     "execution_count": 81,
     "metadata": {},
     "output_type": "execute_result"
    }
   ],
   "source": [
    "knn.fit(X1_train, Y1_train)"
   ]
  },
  {
   "cell_type": "code",
   "execution_count": 82,
   "id": "bcf203bc",
   "metadata": {},
   "outputs": [],
   "source": [
    "y_train_pred_knn = knn.predict(X1_train)\n",
    "y_test_pred_knn = knn.predict(X1_test)"
   ]
  },
  {
   "cell_type": "code",
   "execution_count": 83,
   "id": "35f0ac83",
   "metadata": {},
   "outputs": [],
   "source": [
    "train_acc_knn = knn.score(X1_train, Y1_train) \n",
    "test_acc_knn = knn.score(X1_test, Y1_test) "
   ]
  },
  {
   "cell_type": "code",
   "execution_count": 84,
   "id": "55c22d08",
   "metadata": {},
   "outputs": [
    {
     "name": "stdout",
     "output_type": "stream",
     "text": [
      "Training Accuracy-KNN:84.97\n",
      "Test Accuracy-KNN:77.09\n"
     ]
    }
   ],
   "source": [
    "print(\"Training Accuracy-KNN:{}\".format(np.round(train_acc_knn*100,2)))\n",
    "print(\"Test Accuracy-KNN:{}\".format(np.round(test_acc_knn*100,2)))"
   ]
  },
  {
   "cell_type": "code",
   "execution_count": null,
   "id": "0e575d17",
   "metadata": {},
   "outputs": [],
   "source": [
    "## We observed that the accuracy of the train and test data increased to 84% and 77%"
   ]
  },
  {
   "cell_type": "markdown",
   "id": "7cf68d6c",
   "metadata": {},
   "source": [
    "### 2.2 KNN- with Hyperparameter Optimisation"
   ]
  },
  {
   "cell_type": "code",
   "execution_count": 86,
   "id": "0d80f1e1",
   "metadata": {},
   "outputs": [],
   "source": [
    "knn2=KNeighborsClassifier()"
   ]
  },
  {
   "cell_type": "code",
   "execution_count": 85,
   "id": "a56e7cb1",
   "metadata": {},
   "outputs": [],
   "source": [
    "hyperparameters_knn = {\n",
    "    \"n_neighbors\" : range(1,20,2),\n",
    "    'weights' : ['uniform', 'distance'],\n",
    "    'p' : [1, 2]\n",
    "}\n",
    "#neighbours should be 1,3,5,7etc odd values \n",
    "# we are using them from 1 to 19\n",
    "# P=1 and p=2 we are checking for both manhattan and euclidean distance"
   ]
  },
  {
   "cell_type": "markdown",
   "id": "656c961c",
   "metadata": {},
   "source": [
    "    1.  10 * 2 * 2 = 40 values\n",
    "    2.  40*5 = 200 fits"
   ]
  },
  {
   "cell_type": "code",
   "execution_count": 87,
   "id": "3fa80f3f",
   "metadata": {},
   "outputs": [],
   "source": [
    "grid_cv_knn=GridSearchCV(knn2,hyperparameters_knn,cv=5,verbose=True, n_jobs=-1)"
   ]
  },
  {
   "cell_type": "code",
   "execution_count": null,
   "id": "07a2571f",
   "metadata": {},
   "outputs": [],
   "source": [
    "#we shall use the X1 train and y1 train test as the have feature scaling applied"
   ]
  },
  {
   "cell_type": "code",
   "execution_count": 88,
   "id": "502579f4",
   "metadata": {},
   "outputs": [
    {
     "name": "stdout",
     "output_type": "stream",
     "text": [
      "Fitting 5 folds for each of 40 candidates, totalling 200 fits\n"
     ]
    },
    {
     "data": {
      "text/plain": [
       "GridSearchCV(cv=5, estimator=KNeighborsClassifier(), n_jobs=-1,\n",
       "             param_grid={'n_neighbors': range(1, 20, 2), 'p': [1, 2],\n",
       "                         'weights': ['uniform', 'distance']},\n",
       "             verbose=True)"
      ]
     },
     "execution_count": 88,
     "metadata": {},
     "output_type": "execute_result"
    }
   ],
   "source": [
    "grid_cv_knn.fit(X1_train, Y1_train)"
   ]
  },
  {
   "cell_type": "code",
   "execution_count": 89,
   "id": "1f8815a8",
   "metadata": {},
   "outputs": [
    {
     "name": "stdout",
     "output_type": "stream",
     "text": [
      "{'n_neighbors': 7, 'p': 1, 'weights': 'uniform'}\n",
      "KNeighborsClassifier(n_neighbors=7, p=1)\n",
      "0.8118191667487441\n"
     ]
    }
   ],
   "source": [
    "print(grid_cv_knn.best_params_)\n",
    "print(grid_cv_knn.best_estimator_)\n",
    "print(grid_cv_knn.best_score_)"
   ]
  },
  {
   "cell_type": "code",
   "execution_count": 90,
   "id": "81c3db99",
   "metadata": {},
   "outputs": [],
   "source": [
    "knn_2 = grid_cv_knn.best_estimator_"
   ]
  },
  {
   "cell_type": "code",
   "execution_count": 94,
   "id": "6e7800a1",
   "metadata": {},
   "outputs": [],
   "source": [
    "train_acc_grid_knn = knn_2.score(X1_train, Y1_train) \n",
    "test_acc_grid_knn = knn_2.score(X1_test, Y1_test) "
   ]
  },
  {
   "cell_type": "code",
   "execution_count": 95,
   "id": "ddfbf8f5",
   "metadata": {
    "scrolled": true
   },
   "outputs": [
    {
     "name": "stdout",
     "output_type": "stream",
     "text": [
      "Training Accuracy-KNN:84.27\n",
      "Test Accuracy-KNN:78.77\n"
     ]
    }
   ],
   "source": [
    "print(\"Training Accuracy-KNN:{}\".format(np.round(train_acc_grid_knn*100,2)))\n",
    "print(\"Test Accuracy-KNN:{}\".format(np.round(test_acc_grid_knn*100,2)))"
   ]
  },
  {
   "cell_type": "markdown",
   "id": "3836df26",
   "metadata": {},
   "source": [
    "##### here we observed that the accuracy values after hyperparameter optimisation and the model      with just 5 nearest neighbours\n",
    "##### gives the similar performance"
   ]
  },
  {
   "cell_type": "markdown",
   "id": "461608ba",
   "metadata": {},
   "source": [
    "### 3.Decission Tree"
   ]
  },
  {
   "cell_type": "markdown",
   "id": "ec4adb4c",
   "metadata": {},
   "source": [
    "#### For the Decission trees we need not do feature scaling as it is a rule based algorithm\n",
    "    1.no convergence(Gradient descent) takes place  \n",
    "    2.no distance metric is involved like in KNN"
   ]
  },
  {
   "cell_type": "code",
   "execution_count": 96,
   "id": "95726268",
   "metadata": {},
   "outputs": [
    {
     "data": {
      "text/plain": [
       "DecisionTreeClassifier(random_state=42)"
      ]
     },
     "execution_count": 96,
     "metadata": {},
     "output_type": "execute_result"
    }
   ],
   "source": [
    "dt=DecisionTreeClassifier(random_state=42)\n",
    "dt.fit(X_train,Y_train)"
   ]
  },
  {
   "cell_type": "code",
   "execution_count": 97,
   "id": "ed5630da",
   "metadata": {},
   "outputs": [],
   "source": [
    "y_train_pred_dt=dt.predict(X_train)\n",
    "y_test_pred_dt=dt.predict(X_test)"
   ]
  },
  {
   "cell_type": "code",
   "execution_count": 98,
   "id": "b7c55ba8",
   "metadata": {
    "scrolled": false
   },
   "outputs": [
    {
     "name": "stdout",
     "output_type": "stream",
     "text": [
      "Training Accuracy:0.9817415730337079, Testing Accuracy:0.8156424581005587\n"
     ]
    }
   ],
   "source": [
    "print(\"Training Accuracy:{}, Testing Accuracy:{}\".format(accuracy_score(Y_train,y_train_pred_dt),accuracy_score(Y_test,y_test_pred_dt)))"
   ]
  },
  {
   "cell_type": "code",
   "execution_count": 100,
   "id": "a7512321",
   "metadata": {},
   "outputs": [],
   "source": [
    "train_acc_dt=dt.score(X_train,Y_train)\n",
    "test_acc_dt=dt.score(X_test,Y_test)"
   ]
  },
  {
   "cell_type": "markdown",
   "id": "2e35a3d0",
   "metadata": {},
   "source": [
    "### Training accuracy is far greater than test accuracy."
   ]
  },
  {
   "cell_type": "markdown",
   "id": "851ba7dd",
   "metadata": {},
   "source": [
    "### 3.1 Check the accuracy with Hyperparameter tuning"
   ]
  },
  {
   "cell_type": "code",
   "execution_count": 103,
   "id": "c0e37894",
   "metadata": {},
   "outputs": [],
   "source": [
    "dt_2=DecisionTreeClassifier(random_state=45)"
   ]
  },
  {
   "cell_type": "code",
   "execution_count": 102,
   "id": "3fee0ccd",
   "metadata": {},
   "outputs": [],
   "source": [
    "hyperparameters_dt = {\"criterion\": [\"entropy\", \"gini\"],\n",
    "                   \"max_depth\": [3, 5, 7, 10],\n",
    "                   \"max_features\": [\"log2\", \"sqrt\", 'auto'], \n",
    "                   'min_samples_leaf' : [2, 3, 4, 5],\n",
    "                   'min_samples_split' : [2, 3, 4, 5]\n",
    "}\n",
    "\n",
    "#  max_features\n",
    "#  The number of features to consider when looking for the best split:\n",
    "#         - If int, then consider `max_features` features at each split.\n",
    "#         - If float, then `max_features` is a fraction and\n",
    "#           `int(max_features * n_features)` features are considered at each\n",
    "#           split.\n",
    "#         - If \"auto\", then `max_features=sqrt(n_features)`.\n",
    "#         - If \"sqrt\", then `max_features=sqrt(n_features)`.\n",
    "#         - If \"log2\", then `max_features=log2(n_features)`.\n",
    "#         - If None, then `max_features=n_features`.\n"
   ]
  },
  {
   "cell_type": "code",
   "execution_count": 104,
   "id": "edf6ab93",
   "metadata": {},
   "outputs": [],
   "source": [
    "grid_cv_dt=GridSearchCV(dt_2,hyperparameters_dt,cv=5,verbose=True, n_jobs=-1)"
   ]
  },
  {
   "cell_type": "markdown",
   "id": "c4ab7357",
   "metadata": {},
   "source": [
    "1. 2 * 4 * 3* 4 * 4 = 384 parameter combinations\n",
    "2. 384 * 5 = 1920 fits"
   ]
  },
  {
   "cell_type": "code",
   "execution_count": 105,
   "id": "276b8930",
   "metadata": {},
   "outputs": [
    {
     "name": "stdout",
     "output_type": "stream",
     "text": [
      "Fitting 5 folds for each of 384 candidates, totalling 1920 fits\n"
     ]
    },
    {
     "data": {
      "text/plain": [
       "GridSearchCV(cv=5, estimator=DecisionTreeClassifier(random_state=45), n_jobs=-1,\n",
       "             param_grid={'criterion': ['entropy', 'gini'],\n",
       "                         'max_depth': [3, 5, 7, 10],\n",
       "                         'max_features': ['log2', 'sqrt', 'auto'],\n",
       "                         'min_samples_leaf': [2, 3, 4, 5],\n",
       "                         'min_samples_split': [2, 3, 4, 5]},\n",
       "             verbose=True)"
      ]
     },
     "execution_count": 105,
     "metadata": {},
     "output_type": "execute_result"
    }
   ],
   "source": [
    "grid_cv_dt.fit(X_train,Y_train)"
   ]
  },
  {
   "cell_type": "code",
   "execution_count": 106,
   "id": "f23fdd54",
   "metadata": {
    "scrolled": true
   },
   "outputs": [
    {
     "name": "stdout",
     "output_type": "stream",
     "text": [
      "DecisionTreeClassifier(max_depth=7, max_features='log2', min_samples_leaf=5,\n",
      "                       random_state=45)\n",
      "{'criterion': 'gini', 'max_depth': 7, 'max_features': 'log2', 'min_samples_leaf': 5, 'min_samples_split': 2}\n",
      "0.8188220230473752\n"
     ]
    }
   ],
   "source": [
    "print(grid_cv_dt.best_estimator_)\n",
    "print(grid_cv_dt.best_params_)\n",
    "print(grid_cv_dt.best_score_)"
   ]
  },
  {
   "cell_type": "code",
   "execution_count": 107,
   "id": "81dd0768",
   "metadata": {},
   "outputs": [
    {
     "data": {
      "text/plain": [
       "DecisionTreeClassifier(max_depth=7, max_features='log2', min_samples_leaf=5,\n",
       "                       random_state=45)"
      ]
     },
     "execution_count": 107,
     "metadata": {},
     "output_type": "execute_result"
    }
   ],
   "source": [
    "dt_grid=grid_cv_dt.best_estimator_\n",
    "dt_grid.fit(X_train,Y_train)"
   ]
  },
  {
   "cell_type": "code",
   "execution_count": 108,
   "id": "1ab4b9c9",
   "metadata": {},
   "outputs": [],
   "source": [
    "y_train_pred_dt2=dt_grid.predict(X_train)\n",
    "y_test_pred_dt2=dt_grid.predict(X_test)"
   ]
  },
  {
   "cell_type": "code",
   "execution_count": 109,
   "id": "d45675c4",
   "metadata": {},
   "outputs": [
    {
     "name": "stdout",
     "output_type": "stream",
     "text": [
      "Training Accuracy:0.8567415730337079, Testing Accuracy:0.7597765363128491\n"
     ]
    }
   ],
   "source": [
    "print(\"Training Accuracy:{}, Testing Accuracy:{}\".format(accuracy_score(Y_train,y_train_pred_dt2),accuracy_score(Y_test,y_test_pred_dt2)))"
   ]
  },
  {
   "cell_type": "code",
   "execution_count": 110,
   "id": "b42ea294",
   "metadata": {},
   "outputs": [],
   "source": [
    "train_acc_grid_dt=dt_grid.score(X_train,Y_train)\n",
    "test_acc_grid_dt=dt_grid.score(X_test,Y_test)"
   ]
  },
  {
   "cell_type": "markdown",
   "id": "ac1cc9b6",
   "metadata": {},
   "source": [
    "### 3.2 Check the accuracy with Cost complexity pruning"
   ]
  },
  {
   "cell_type": "code",
   "execution_count": 112,
   "id": "af026612",
   "metadata": {},
   "outputs": [],
   "source": [
    "path=dt.cost_complexity_pruning_path(X_train,Y_train)\n",
    "#Path is a dict containg differents values of CCP_alphas and corrsponding impurites\n",
    "#(Sum of the impurities of the subtree leaves for the corresponding alpha value in ``ccp_alphas``.) in an array"
   ]
  },
  {
   "cell_type": "code",
   "execution_count": 113,
   "id": "498ad978",
   "metadata": {},
   "outputs": [
    {
     "data": {
      "text/plain": [
       "{'ccp_alphas': array([0.00000000e+00, 5.85205993e-05, 9.29444812e-05, 9.36329588e-05,\n",
       "        1.11467808e-04, 2.34082397e-04, 2.80898876e-04, 3.40483487e-04,\n",
       "        3.74531835e-04, 5.99766142e-04, 6.24219725e-04, 6.28326434e-04,\n",
       "        6.55430712e-04, 6.55430712e-04, 6.93577473e-04, 8.51208716e-04,\n",
       "        8.51208716e-04, 9.25048509e-04, 9.36329588e-04, 9.36329588e-04,\n",
       "        9.36329588e-04, 1.12359551e-03, 1.12359551e-03, 1.20385233e-03,\n",
       "        1.20385233e-03, 1.20621282e-03, 1.22893258e-03, 1.24843945e-03,\n",
       "        1.26404494e-03, 1.28049398e-03, 1.31397603e-03, 1.37023842e-03,\n",
       "        1.47480485e-03, 1.60513644e-03, 1.68461317e-03, 1.72050562e-03,\n",
       "        1.80577849e-03, 1.83715006e-03, 1.87265918e-03, 1.92616372e-03,\n",
       "        2.05506104e-03, 2.13481281e-03, 2.24719101e-03, 2.24719101e-03,\n",
       "        2.24719101e-03, 2.34082397e-03, 2.42594484e-03, 2.43202490e-03,\n",
       "        2.64847512e-03, 2.66939053e-03, 2.99625468e-03, 3.00037042e-03,\n",
       "        3.53130016e-03, 3.85962352e-03, 4.36265228e-03, 4.40121676e-03,\n",
       "        4.58976727e-03, 4.73982962e-03, 1.00841067e-02, 1.29217392e-02,\n",
       "        2.02292180e-02, 3.55563469e-02, 1.42597707e-01]),\n",
       " 'impurities': array([0.02247191, 0.02258895, 0.02277484, 0.02286847, 0.02320288,\n",
       "        0.02367104, 0.02423284, 0.02491381, 0.02528834, 0.0276874 ,\n",
       "        0.02956006, 0.03081671, 0.03343844, 0.03409387, 0.03686818,\n",
       "        0.04027301, 0.04282664, 0.04560178, 0.04747444, 0.05121976,\n",
       "        0.05309242, 0.05533961, 0.05646321, 0.05887091, 0.06127862,\n",
       "        0.06369104, 0.06614891, 0.06864579, 0.07370197, 0.07882394,\n",
       "        0.08145189, 0.08419237, 0.10336483, 0.10818024, 0.13850328,\n",
       "        0.14194429, 0.14375007, 0.14926152, 0.15113418, 0.15306034,\n",
       "        0.1551154 , 0.16578947, 0.16803666, 0.17253104, 0.17477823,\n",
       "        0.17711906, 0.18439689, 0.18682892, 0.19212587, 0.19479526,\n",
       "        0.19779151, 0.20079188, 0.21138578, 0.21524541, 0.22397071,\n",
       "        0.23277314, 0.24195268, 0.25143234, 0.26151644, 0.27443818,\n",
       "        0.2946674 , 0.33022375, 0.47282146])}"
      ]
     },
     "execution_count": 113,
     "metadata": {},
     "output_type": "execute_result"
    }
   ],
   "source": [
    "path"
   ]
  },
  {
   "cell_type": "code",
   "execution_count": 114,
   "id": "acb0eaa2",
   "metadata": {},
   "outputs": [
    {
     "data": {
      "text/plain": [
       "(0.0, 0.14259770698334534)"
      ]
     },
     "execution_count": 114,
     "metadata": {},
     "output_type": "execute_result"
    }
   ],
   "source": [
    "alphas=path['ccp_alphas']\n",
    "alphas.min(),alphas.max()"
   ]
  },
  {
   "cell_type": "code",
   "execution_count": 115,
   "id": "a937ef79",
   "metadata": {},
   "outputs": [
    {
     "data": {
      "image/png": "[encoded data removed]",
      "text/plain": [
       "<Figure size 1008x504 with 1 Axes>"
      ]
     },
     "metadata": {},
     "output_type": "display_data"
    }
   ],
   "source": [
    "accuracy_train,accuracy_test=[],[]\n",
    "\n",
    "for i in alphas:\n",
    "    tree=DecisionTreeClassifier(ccp_alpha=i)\n",
    "    \n",
    "    tree.fit(X_train,Y_train)\n",
    "    y_train_pred_CCP=tree.predict(X_train)\n",
    "    y_test_pred_CCP=tree.predict(X_test)\n",
    "    \n",
    "    accuracy_train.append(accuracy_score(Y_train,y_train_pred_CCP))\n",
    "    accuracy_test.append(accuracy_score(Y_test,y_test_pred_CCP))\n",
    "    \n",
    "    \n",
    "sns.set()\n",
    "plt.figure(figsize=(14,7))\n",
    "sns.lineplot(y=accuracy_train,x=alphas,label=\"Train Accuracy\")\n",
    "sns.lineplot(y=accuracy_test,x=alphas,label=\"Test Accuracy\")\n",
    "plt.xticks(ticks=np.arange(0.00,0.15,0.01))\n",
    "plt.show()"
   ]
  },
  {
   "cell_type": "code",
   "execution_count": null,
   "id": "88ee3255",
   "metadata": {},
   "outputs": [],
   "source": [
    "#at ALPHA=0.02 TO 0.035 THE train and test accuracy are same "
   ]
  },
  {
   "cell_type": "code",
   "execution_count": 116,
   "id": "6130b181",
   "metadata": {},
   "outputs": [
    {
     "name": "stdout",
     "output_type": "stream",
     "text": [
      "Training Accuracy:0.7893258426966292, Testing Accuracy:0.776536312849162\n"
     ]
    }
   ],
   "source": [
    "tree_new = DecisionTreeClassifier(ccp_alpha=0.03,random_state=40)\n",
    "tree_new.fit(X_train,Y_train)\n",
    "y_train_pred_ccp=tree_new.predict(X_train)\n",
    "y_test_pred_ccp=tree_new.predict(X_test)\n",
    "\n",
    "print(\"Training Accuracy:{}, Testing Accuracy:{}\".format(accuracy_score(Y1_train,y_train_pred_ccp),accuracy_score(Y1_test,y_test_pred_ccp)))"
   ]
  },
  {
   "cell_type": "code",
   "execution_count": 117,
   "id": "b6c97323",
   "metadata": {},
   "outputs": [],
   "source": [
    "train_acc_ccp_dt=tree_new.score(X_train,Y_train)\n",
    "test_acc_ccp_dt=tree_new.score(X_test,Y_test)"
   ]
  },
  {
   "cell_type": "markdown",
   "id": "8d8b3b17",
   "metadata": {},
   "source": [
    "### 4. Random Forest"
   ]
  },
  {
   "cell_type": "code",
   "execution_count": 119,
   "id": "6c449822",
   "metadata": {},
   "outputs": [
    {
     "data": {
      "text/plain": [
       "98.17"
      ]
     },
     "execution_count": 119,
     "metadata": {},
     "output_type": "execute_result"
    }
   ],
   "source": [
    "random_forest = RandomForestClassifier(n_estimators=100,random_state=42)\n",
    "random_forest.fit(X_train, Y_train)\n",
    "y_train_pred_rf = random_forest.predict(X_train)\n",
    "y_test_pred_rf = random_forest.predict(X_test)\n",
    "\n",
    "acc_random_forest = round(random_forest.score(X_train, Y_train) * 100, 2)\n",
    "acc_random_forest"
   ]
  },
  {
   "cell_type": "code",
   "execution_count": 120,
   "id": "8c60775c",
   "metadata": {},
   "outputs": [
    {
     "name": "stdout",
     "output_type": "stream",
     "text": [
      "Training Accuracy:0.9817415730337079, Testing Accuracy:0.8156424581005587\n"
     ]
    }
   ],
   "source": [
    "print(\"Training Accuracy:{}, Testing Accuracy:{}\".format(accuracy_score(Y_train,y_train_pred_rf),accuracy_score(Y_test,y_test_pred_rf)))"
   ]
  },
  {
   "cell_type": "code",
   "execution_count": 121,
   "id": "f088aee2",
   "metadata": {},
   "outputs": [],
   "source": [
    "train_acc_rf=random_forest.score(X_train, Y_train)\n",
    "test_acc_rf=random_forest.score(X_test, Y_test)"
   ]
  },
  {
   "cell_type": "markdown",
   "id": "3a7d4fa1",
   "metadata": {},
   "source": [
    "### 4.1 Random Forest Hyper Paramter tuning"
   ]
  },
  {
   "cell_type": "code",
   "execution_count": 124,
   "id": "6235eea6",
   "metadata": {},
   "outputs": [],
   "source": [
    "random_forest1=RandomForestClassifier()"
   ]
  },
  {
   "cell_type": "code",
   "execution_count": 123,
   "id": "d22ac62d",
   "metadata": {},
   "outputs": [],
   "source": [
    "hyperparameters_rf = {\"criterion\": [\"entropy\", \"gini\"],\n",
    "                   \"max_depth\": [3, 5, 7],\n",
    "                   \"max_features\": [\"log2\", \"sqrt\", 'auto'], \n",
    "                   'min_samples_leaf' : [2, 3, 4, 5],\n",
    "                   'min_samples_split' : [2, 3, 4, 5],\n",
    "                    \"n_estimators\" :[50,100,150,200,250] # number of trees in the random forest\n",
    "}\n"
   ]
  },
  {
   "cell_type": "code",
   "execution_count": 125,
   "id": "82787e14",
   "metadata": {},
   "outputs": [],
   "source": [
    "grid_cv_rf= GridSearchCV(random_forest1,hyperparameters_rf,cv=5,n_jobs=-1,verbose=4)\n"
   ]
  },
  {
   "cell_type": "code",
   "execution_count": 126,
   "id": "0e670795",
   "metadata": {},
   "outputs": [
    {
     "name": "stdout",
     "output_type": "stream",
     "text": [
      "Fitting 5 folds for each of 1440 candidates, totalling 7200 fits\n"
     ]
    },
    {
     "data": {
      "text/plain": [
       "GridSearchCV(cv=5, estimator=RandomForestClassifier(), n_jobs=-1,\n",
       "             param_grid={'criterion': ['entropy', 'gini'],\n",
       "                         'max_depth': [3, 5, 7],\n",
       "                         'max_features': ['log2', 'sqrt', 'auto'],\n",
       "                         'min_samples_leaf': [2, 3, 4, 5],\n",
       "                         'min_samples_split': [2, 3, 4, 5],\n",
       "                         'n_estimators': [50, 100, 150, 200, 250]},\n",
       "             verbose=4)"
      ]
     },
     "execution_count": 126,
     "metadata": {},
     "output_type": "execute_result"
    }
   ],
   "source": [
    "grid_cv_rf.fit(X_train,Y_train)"
   ]
  },
  {
   "cell_type": "code",
   "execution_count": 127,
   "id": "ebc6cc78",
   "metadata": {
    "scrolled": false
   },
   "outputs": [
    {
     "name": "stdout",
     "output_type": "stream",
     "text": [
      "RandomForestClassifier(criterion='entropy', max_depth=5, min_samples_leaf=2,\n",
      "                       min_samples_split=5, n_estimators=150)\n",
      "{'criterion': 'entropy', 'max_depth': 5, 'max_features': 'auto', 'min_samples_leaf': 2, 'min_samples_split': 5, 'n_estimators': 150}\n",
      "0.827331823106471\n"
     ]
    }
   ],
   "source": [
    "print(grid_cv_rf.best_estimator_)\n",
    "print(grid_cv_rf.best_params_)\n",
    "print(grid_cv_rf.best_score_)"
   ]
  },
  {
   "cell_type": "code",
   "execution_count": 129,
   "id": "9372173f",
   "metadata": {},
   "outputs": [],
   "source": [
    "rf_df=pd.DataFrame(grid_cv_rf.cv_results_)\n",
    "rf_df=rf_df.sort_values('rank_test_score')\n",
    "rf_df.to_csv(\"rf_.csv\")"
   ]
  },
  {
   "cell_type": "code",
   "execution_count": 130,
   "id": "7cc01ca0",
   "metadata": {},
   "outputs": [],
   "source": [
    "random_forest2=grid_cv_rf.best_estimator_"
   ]
  },
  {
   "cell_type": "code",
   "execution_count": 131,
   "id": "80c8f470",
   "metadata": {},
   "outputs": [],
   "source": [
    "random_forest2.fit(X_train,Y_train)\n",
    "y_train_pred_rf2 = random_forest2.predict(X_train)\n",
    "y_test_pred_rf2 = random_forest2.predict(X_test)"
   ]
  },
  {
   "cell_type": "code",
   "execution_count": 132,
   "id": "62bcbb4f",
   "metadata": {},
   "outputs": [
    {
     "name": "stdout",
     "output_type": "stream",
     "text": [
      "Training Accuracy:0.851123595505618, Testing Accuracy:0.8379888268156425\n"
     ]
    }
   ],
   "source": [
    "print(\"Training Accuracy:{}, Testing Accuracy:{}\".format(accuracy_score(Y_train,y_train_pred_rf2),accuracy_score(Y_test,y_test_pred_rf2)))"
   ]
  },
  {
   "cell_type": "code",
   "execution_count": 134,
   "id": "4d83aa85",
   "metadata": {},
   "outputs": [],
   "source": [
    "train_acc_grid_rf=random_forest2.score(X_train,Y_train)\n",
    "test_acc_grid_rf=random_forest2.score(X_test,Y_test)\n"
   ]
  },
  {
   "cell_type": "markdown",
   "id": "6208673d",
   "metadata": {},
   "source": [
    "### 5.SVC"
   ]
  },
  {
   "cell_type": "code",
   "execution_count": 140,
   "id": "72e8de14",
   "metadata": {},
   "outputs": [],
   "source": [
    "svc = SVC(random_state=30)\n",
    "svc.fit(X_train, Y_train)\n",
    "Y_train_pred_svc = svc.predict(X_train)\n",
    "Y_test_pred_svc = svc.predict(X_test)"
   ]
  },
  {
   "cell_type": "code",
   "execution_count": 141,
   "id": "0fb9e414",
   "metadata": {},
   "outputs": [
    {
     "name": "stdout",
     "output_type": "stream",
     "text": [
      "Training Accuracy:0.699438202247191, Testing Accuracy:0.6201117318435754\n"
     ]
    }
   ],
   "source": [
    "print(\"Training Accuracy:{}, Testing Accuracy:{}\".format(accuracy_score(Y_train,Y_train_pred_svc),accuracy_score(Y_test,Y_test_pred_svc)))"
   ]
  },
  {
   "cell_type": "code",
   "execution_count": 142,
   "id": "bbea973f",
   "metadata": {},
   "outputs": [],
   "source": [
    "train_acc_svc=svc.score(X_train, Y_train)\n",
    "test_acc_svc=svc.score(X_test,Y_test)"
   ]
  },
  {
   "cell_type": "markdown",
   "id": "4575ee8a",
   "metadata": {},
   "source": [
    "### 5.1 SVC Hyperparameter tuning"
   ]
  },
  {
   "cell_type": "code",
   "execution_count": 143,
   "id": "b34c03ba",
   "metadata": {},
   "outputs": [],
   "source": [
    "svc1 = SVC(random_state=40)"
   ]
  },
  {
   "cell_type": "code",
   "execution_count": 144,
   "id": "0c18598d",
   "metadata": {},
   "outputs": [],
   "source": [
    "hyperparameters_svc = {\n",
    "              'C': [0.1, 1, 10, 100, 1000], \n",
    "              'gamma': [1, 0.1, 0.01, 0.001, 0.0001],\n",
    "              'kernel': ['rbf']\n",
    "               } \n",
    "  \n",
    "grid_svm = GridSearchCV(svc1, hyperparameters_svc, refit = True, verbose = 4)"
   ]
  },
  {
   "cell_type": "code",
   "execution_count": 145,
   "id": "902dd356",
   "metadata": {},
   "outputs": [
    {
     "name": "stdout",
     "output_type": "stream",
     "text": [
      "Fitting 5 folds for each of 25 candidates, totalling 125 fits\n",
      "[CV 1/5] END ........C=0.1, gamma=1, kernel=rbf;, score=0.615 total time=   0.0s\n",
      "[CV 2/5] END ........C=0.1, gamma=1, kernel=rbf;, score=0.615 total time=   0.0s\n",
      "[CV 3/5] END ........C=0.1, gamma=1, kernel=rbf;, score=0.613 total time=   0.0s\n",
      "[CV 4/5] END ........C=0.1, gamma=1, kernel=rbf;, score=0.620 total time=   0.0s\n",
      "[CV 5/5] END ........C=0.1, gamma=1, kernel=rbf;, score=0.620 total time=   0.0s\n",
      "[CV 1/5] END ......C=0.1, gamma=0.1, kernel=rbf;, score=0.615 total time=   0.0s\n",
      "[CV 2/5] END ......C=0.1, gamma=0.1, kernel=rbf;, score=0.615 total time=   0.0s\n",
      "[CV 3/5] END ......C=0.1, gamma=0.1, kernel=rbf;, score=0.613 total time=   0.0s\n",
      "[CV 4/5] END ......C=0.1, gamma=0.1, kernel=rbf;, score=0.620 total time=   0.0s\n",
      "[CV 5/5] END ......C=0.1, gamma=0.1, kernel=rbf;, score=0.620 total time=   0.0s\n",
      "[CV 1/5] END .....C=0.1, gamma=0.01, kernel=rbf;, score=0.664 total time=   0.0s\n",
      "[CV 2/5] END .....C=0.1, gamma=0.01, kernel=rbf;, score=0.650 total time=   0.0s\n",
      "[CV 3/5] END .....C=0.1, gamma=0.01, kernel=rbf;, score=0.669 total time=   0.0s\n",
      "[CV 4/5] END .....C=0.1, gamma=0.01, kernel=rbf;, score=0.669 total time=   0.0s\n",
      "[CV 5/5] END .....C=0.1, gamma=0.01, kernel=rbf;, score=0.669 total time=   0.0s\n",
      "[CV 1/5] END ....C=0.1, gamma=0.001, kernel=rbf;, score=0.671 total time=   0.0s\n",
      "[CV 2/5] END ....C=0.1, gamma=0.001, kernel=rbf;, score=0.678 total time=   0.0s\n",
      "[CV 3/5] END ....C=0.1, gamma=0.001, kernel=rbf;, score=0.669 total time=   0.0s\n",
      "[CV 4/5] END ....C=0.1, gamma=0.001, kernel=rbf;, score=0.718 total time=   0.0s\n",
      "[CV 5/5] END ....C=0.1, gamma=0.001, kernel=rbf;, score=0.711 total time=   0.0s\n",
      "[CV 1/5] END ...C=0.1, gamma=0.0001, kernel=rbf;, score=0.650 total time=   0.0s\n",
      "[CV 2/5] END ...C=0.1, gamma=0.0001, kernel=rbf;, score=0.671 total time=   0.0s\n",
      "[CV 3/5] END ...C=0.1, gamma=0.0001, kernel=rbf;, score=0.662 total time=   0.0s\n",
      "[CV 4/5] END ...C=0.1, gamma=0.0001, kernel=rbf;, score=0.676 total time=   0.0s\n",
      "[CV 5/5] END ...C=0.1, gamma=0.0001, kernel=rbf;, score=0.697 total time=   0.0s\n",
      "[CV 1/5] END ..........C=1, gamma=1, kernel=rbf;, score=0.664 total time=   0.0s\n",
      "[CV 2/5] END ..........C=1, gamma=1, kernel=rbf;, score=0.643 total time=   0.0s\n",
      "[CV 3/5] END ..........C=1, gamma=1, kernel=rbf;, score=0.655 total time=   0.0s\n",
      "[CV 4/5] END ..........C=1, gamma=1, kernel=rbf;, score=0.655 total time=   0.0s\n",
      "[CV 5/5] END ..........C=1, gamma=1, kernel=rbf;, score=0.676 total time=   0.0s\n",
      "[CV 1/5] END ........C=1, gamma=0.1, kernel=rbf;, score=0.671 total time=   0.0s\n",
      "[CV 2/5] END ........C=1, gamma=0.1, kernel=rbf;, score=0.657 total time=   0.0s\n",
      "[CV 3/5] END ........C=1, gamma=0.1, kernel=rbf;, score=0.725 total time=   0.0s\n",
      "[CV 4/5] END ........C=1, gamma=0.1, kernel=rbf;, score=0.725 total time=   0.0s\n",
      "[CV 5/5] END ........C=1, gamma=0.1, kernel=rbf;, score=0.739 total time=   0.0s\n",
      "[CV 1/5] END .......C=1, gamma=0.01, kernel=rbf;, score=0.692 total time=   0.0s\n",
      "[CV 2/5] END .......C=1, gamma=0.01, kernel=rbf;, score=0.685 total time=   0.0s\n",
      "[CV 3/5] END .......C=1, gamma=0.01, kernel=rbf;, score=0.704 total time=   0.0s\n",
      "[CV 4/5] END .......C=1, gamma=0.01, kernel=rbf;, score=0.746 total time=   0.0s\n",
      "[CV 5/5] END .......C=1, gamma=0.01, kernel=rbf;, score=0.690 total time=   0.0s\n",
      "[CV 1/5] END ......C=1, gamma=0.001, kernel=rbf;, score=0.678 total time=   0.0s\n",
      "[CV 2/5] END ......C=1, gamma=0.001, kernel=rbf;, score=0.706 total time=   0.0s\n",
      "[CV 3/5] END ......C=1, gamma=0.001, kernel=rbf;, score=0.711 total time=   0.0s\n",
      "[CV 4/5] END ......C=1, gamma=0.001, kernel=rbf;, score=0.725 total time=   0.0s\n",
      "[CV 5/5] END ......C=1, gamma=0.001, kernel=rbf;, score=0.732 total time=   0.0s\n",
      "[CV 1/5] END .....C=1, gamma=0.0001, kernel=rbf;, score=0.664 total time=   0.0s\n",
      "[CV 2/5] END .....C=1, gamma=0.0001, kernel=rbf;, score=0.692 total time=   0.0s\n",
      "[CV 3/5] END .....C=1, gamma=0.0001, kernel=rbf;, score=0.683 total time=   0.0s\n",
      "[CV 4/5] END .....C=1, gamma=0.0001, kernel=rbf;, score=0.690 total time=   0.0s\n",
      "[CV 5/5] END .....C=1, gamma=0.0001, kernel=rbf;, score=0.718 total time=   0.0s\n",
      "[CV 1/5] END .........C=10, gamma=1, kernel=rbf;, score=0.643 total time=   0.0s\n",
      "[CV 2/5] END .........C=10, gamma=1, kernel=rbf;, score=0.615 total time=   0.0s\n",
      "[CV 3/5] END .........C=10, gamma=1, kernel=rbf;, score=0.676 total time=   0.0s\n",
      "[CV 4/5] END .........C=10, gamma=1, kernel=rbf;, score=0.648 total time=   0.0s\n",
      "[CV 5/5] END .........C=10, gamma=1, kernel=rbf;, score=0.662 total time=   0.0s\n",
      "[CV 1/5] END .......C=10, gamma=0.1, kernel=rbf;, score=0.671 total time=   0.0s\n",
      "[CV 2/5] END .......C=10, gamma=0.1, kernel=rbf;, score=0.692 total time=   0.0s\n",
      "[CV 3/5] END .......C=10, gamma=0.1, kernel=rbf;, score=0.690 total time=   0.0s\n",
      "[CV 4/5] END .......C=10, gamma=0.1, kernel=rbf;, score=0.718 total time=   0.0s\n",
      "[CV 5/5] END .......C=10, gamma=0.1, kernel=rbf;, score=0.754 total time=   0.0s\n",
      "[CV 1/5] END ......C=10, gamma=0.01, kernel=rbf;, score=0.741 total time=   0.0s\n",
      "[CV 2/5] END ......C=10, gamma=0.01, kernel=rbf;, score=0.734 total time=   0.0s\n",
      "[CV 3/5] END ......C=10, gamma=0.01, kernel=rbf;, score=0.761 total time=   0.0s\n",
      "[CV 4/5] END ......C=10, gamma=0.01, kernel=rbf;, score=0.782 total time=   0.0s\n",
      "[CV 5/5] END ......C=10, gamma=0.01, kernel=rbf;, score=0.775 total time=   0.0s\n",
      "[CV 1/5] END .....C=10, gamma=0.001, kernel=rbf;, score=0.762 total time=   0.0s\n",
      "[CV 2/5] END .....C=10, gamma=0.001, kernel=rbf;, score=0.755 total time=   0.0s\n",
      "[CV 3/5] END .....C=10, gamma=0.001, kernel=rbf;, score=0.796 total time=   0.0s\n",
      "[CV 4/5] END .....C=10, gamma=0.001, kernel=rbf;, score=0.782 total time=   0.0s\n",
      "[CV 5/5] END .....C=10, gamma=0.001, kernel=rbf;, score=0.789 total time=   0.0s\n",
      "[CV 1/5] END ....C=10, gamma=0.0001, kernel=rbf;, score=0.692 total time=   0.0s\n",
      "[CV 2/5] END ....C=10, gamma=0.0001, kernel=rbf;, score=0.685 total time=   0.0s\n",
      "[CV 3/5] END ....C=10, gamma=0.0001, kernel=rbf;, score=0.732 total time=   0.0s\n",
      "[CV 4/5] END ....C=10, gamma=0.0001, kernel=rbf;, score=0.725 total time=   0.0s\n",
      "[CV 5/5] END ....C=10, gamma=0.0001, kernel=rbf;, score=0.711 total time=   0.0s\n",
      "[CV 1/5] END ........C=100, gamma=1, kernel=rbf;, score=0.643 total time=   0.0s\n",
      "[CV 2/5] END ........C=100, gamma=1, kernel=rbf;, score=0.629 total time=   0.0s\n",
      "[CV 3/5] END ........C=100, gamma=1, kernel=rbf;, score=0.655 total time=   0.0s\n",
      "[CV 4/5] END ........C=100, gamma=1, kernel=rbf;, score=0.641 total time=   0.0s\n",
      "[CV 5/5] END ........C=100, gamma=1, kernel=rbf;, score=0.662 total time=   0.0s\n",
      "[CV 1/5] END ......C=100, gamma=0.1, kernel=rbf;, score=0.664 total time=   0.0s\n",
      "[CV 2/5] END ......C=100, gamma=0.1, kernel=rbf;, score=0.643 total time=   0.0s\n",
      "[CV 3/5] END ......C=100, gamma=0.1, kernel=rbf;, score=0.683 total time=   0.0s\n",
      "[CV 4/5] END ......C=100, gamma=0.1, kernel=rbf;, score=0.711 total time=   0.0s\n",
      "[CV 5/5] END ......C=100, gamma=0.1, kernel=rbf;, score=0.725 total time=   0.0s\n",
      "[CV 1/5] END .....C=100, gamma=0.01, kernel=rbf;, score=0.706 total time=   0.0s\n",
      "[CV 2/5] END .....C=100, gamma=0.01, kernel=rbf;, score=0.727 total time=   0.0s\n",
      "[CV 3/5] END .....C=100, gamma=0.01, kernel=rbf;, score=0.739 total time=   0.0s\n",
      "[CV 4/5] END .....C=100, gamma=0.01, kernel=rbf;, score=0.789 total time=   0.0s\n",
      "[CV 5/5] END .....C=100, gamma=0.01, kernel=rbf;, score=0.768 total time=   0.0s\n",
      "[CV 1/5] END ....C=100, gamma=0.001, kernel=rbf;, score=0.783 total time=   0.0s\n",
      "[CV 2/5] END ....C=100, gamma=0.001, kernel=rbf;, score=0.776 total time=   0.0s\n",
      "[CV 3/5] END ....C=100, gamma=0.001, kernel=rbf;, score=0.824 total time=   0.0s\n",
      "[CV 4/5] END ....C=100, gamma=0.001, kernel=rbf;, score=0.817 total time=   0.0s\n",
      "[CV 5/5] END ....C=100, gamma=0.001, kernel=rbf;, score=0.817 total time=   0.0s\n",
      "[CV 1/5] END ...C=100, gamma=0.0001, kernel=rbf;, score=0.790 total time=   0.0s\n",
      "[CV 2/5] END ...C=100, gamma=0.0001, kernel=rbf;, score=0.762 total time=   0.0s\n",
      "[CV 3/5] END ...C=100, gamma=0.0001, kernel=rbf;, score=0.796 total time=   0.0s\n",
      "[CV 4/5] END ...C=100, gamma=0.0001, kernel=rbf;, score=0.796 total time=   0.0s\n",
      "[CV 5/5] END ...C=100, gamma=0.0001, kernel=rbf;, score=0.796 total time=   0.0s\n",
      "[CV 1/5] END .......C=1000, gamma=1, kernel=rbf;, score=0.643 total time=   0.0s\n"
     ]
    },
    {
     "name": "stdout",
     "output_type": "stream",
     "text": [
      "[CV 2/5] END .......C=1000, gamma=1, kernel=rbf;, score=0.608 total time=   0.0s\n",
      "[CV 3/5] END .......C=1000, gamma=1, kernel=rbf;, score=0.662 total time=   0.0s\n",
      "[CV 4/5] END .......C=1000, gamma=1, kernel=rbf;, score=0.655 total time=   0.0s\n",
      "[CV 5/5] END .......C=1000, gamma=1, kernel=rbf;, score=0.662 total time=   0.0s\n",
      "[CV 1/5] END .....C=1000, gamma=0.1, kernel=rbf;, score=0.657 total time=   0.0s\n",
      "[CV 2/5] END .....C=1000, gamma=0.1, kernel=rbf;, score=0.629 total time=   0.0s\n",
      "[CV 3/5] END .....C=1000, gamma=0.1, kernel=rbf;, score=0.662 total time=   0.0s\n",
      "[CV 4/5] END .....C=1000, gamma=0.1, kernel=rbf;, score=0.711 total time=   0.0s\n",
      "[CV 5/5] END .....C=1000, gamma=0.1, kernel=rbf;, score=0.669 total time=   0.0s\n",
      "[CV 1/5] END ....C=1000, gamma=0.01, kernel=rbf;, score=0.706 total time=   0.0s\n",
      "[CV 2/5] END ....C=1000, gamma=0.01, kernel=rbf;, score=0.699 total time=   0.1s\n",
      "[CV 3/5] END ....C=1000, gamma=0.01, kernel=rbf;, score=0.725 total time=   0.0s\n",
      "[CV 4/5] END ....C=1000, gamma=0.01, kernel=rbf;, score=0.796 total time=   0.0s\n",
      "[CV 5/5] END ....C=1000, gamma=0.01, kernel=rbf;, score=0.761 total time=   0.0s\n",
      "[CV 1/5] END ...C=1000, gamma=0.001, kernel=rbf;, score=0.804 total time=   0.0s\n",
      "[CV 2/5] END ...C=1000, gamma=0.001, kernel=rbf;, score=0.755 total time=   0.1s\n",
      "[CV 3/5] END ...C=1000, gamma=0.001, kernel=rbf;, score=0.810 total time=   0.0s\n",
      "[CV 4/5] END ...C=1000, gamma=0.001, kernel=rbf;, score=0.810 total time=   0.1s\n",
      "[CV 5/5] END ...C=1000, gamma=0.001, kernel=rbf;, score=0.782 total time=   0.0s\n",
      "[CV 1/5] END ..C=1000, gamma=0.0001, kernel=rbf;, score=0.776 total time=   0.0s\n",
      "[CV 2/5] END ..C=1000, gamma=0.0001, kernel=rbf;, score=0.769 total time=   0.0s\n",
      "[CV 3/5] END ..C=1000, gamma=0.0001, kernel=rbf;, score=0.810 total time=   0.0s\n",
      "[CV 4/5] END ..C=1000, gamma=0.0001, kernel=rbf;, score=0.817 total time=   0.0s\n",
      "[CV 5/5] END ..C=1000, gamma=0.0001, kernel=rbf;, score=0.796 total time=   0.0s\n"
     ]
    },
    {
     "data": {
      "text/plain": [
       "GridSearchCV(estimator=SVC(random_state=40),\n",
       "             param_grid={'C': [0.1, 1, 10, 100, 1000],\n",
       "                         'gamma': [1, 0.1, 0.01, 0.001, 0.0001],\n",
       "                         'kernel': ['rbf']},\n",
       "             verbose=4)"
      ]
     },
     "execution_count": 145,
     "metadata": {},
     "output_type": "execute_result"
    }
   ],
   "source": [
    "# fitting the model for grid search\n",
    "grid_svm.fit(X_train, Y_train)"
   ]
  },
  {
   "cell_type": "code",
   "execution_count": 146,
   "id": "4dad89bb",
   "metadata": {},
   "outputs": [
    {
     "name": "stdout",
     "output_type": "stream",
     "text": [
      "SVC(C=100, gamma=0.001, random_state=40)\n",
      "{'C': 100, 'gamma': 0.001, 'kernel': 'rbf'}\n",
      "0.8034374076627598\n"
     ]
    }
   ],
   "source": [
    "print(grid_svm.best_estimator_)\n",
    "print(grid_svm.best_params_)\n",
    "print(grid_svm.best_score_)"
   ]
  },
  {
   "cell_type": "code",
   "execution_count": 147,
   "id": "df74bcd2",
   "metadata": {},
   "outputs": [],
   "source": [
    "svc2=grid_svm.best_estimator_"
   ]
  },
  {
   "cell_type": "code",
   "execution_count": 148,
   "id": "1da1aeae",
   "metadata": {},
   "outputs": [
    {
     "data": {
      "text/plain": [
       "SVC(C=100, gamma=0.001, random_state=40)"
      ]
     },
     "execution_count": 148,
     "metadata": {},
     "output_type": "execute_result"
    }
   ],
   "source": [
    "svc2.fit(X_train,Y_train)"
   ]
  },
  {
   "cell_type": "code",
   "execution_count": 149,
   "id": "9cb7e70d",
   "metadata": {},
   "outputs": [
    {
     "name": "stdout",
     "output_type": "stream",
     "text": [
      "Training Accuracy:0.8370786516853933, Testing Accuracy:0.7877094972067039\n"
     ]
    }
   ],
   "source": [
    "Y_train_pred_svc2 = svc2.predict(X_train)\n",
    "Y_test_pred_svc2 = svc2.predict(X_test)\n",
    "print(\"Training Accuracy:{}, Testing Accuracy:{}\".format(accuracy_score(Y_train,Y_train_pred_svc2),accuracy_score(Y_test,Y_test_pred_svc2)))"
   ]
  },
  {
   "cell_type": "code",
   "execution_count": 150,
   "id": "3308a850",
   "metadata": {},
   "outputs": [],
   "source": [
    "train_acc_grid_svc=svc2.score(X_train,Y_train)\n",
    "test_acc_grid_svc=svc2.score(X_test,Y_test)"
   ]
  },
  {
   "cell_type": "code",
   "execution_count": 152,
   "id": "88ae9ddb",
   "metadata": {},
   "outputs": [],
   "source": [
    "summary_models_dict = {\n",
    "        \n",
    "    'Model': ['Logistic Regression',\n",
    "              'Logistic Regression-Hyperparamters', \n",
    "              'KNN',\n",
    "              'KNN-Hyperparamters',\n",
    "              'Decision Tree',\n",
    "              'Decision Tree-Hyperparameters',\n",
    "              'Decision Tree-CCP',\n",
    "              'Random Forest',\n",
    "              'Random Forest-Hyperparamters',\n",
    "              'SVC',\n",
    "              'SVC-Hyperparameters'],\n",
    "    \n",
    "    'Training_Accuracy': [train_acc_lr, \n",
    "                          train_acc_grid_lr,\n",
    "                          train_acc_knn,\n",
    "                          train_acc_grid_knn, \n",
    "                          train_acc_dt,\n",
    "                          train_acc_grid_dt,\n",
    "                          train_acc_ccp_dt,\n",
    "                          train_acc_rf,\n",
    "                          train_acc_grid_rf,\n",
    "                          train_acc_svc,\n",
    "                          train_acc_grid_svc],\n",
    "   \n",
    "    'Testing_Accuracy': [test_acc_lr,\n",
    "                         test_acc_grid_lr,\n",
    "                         test_acc_knn,\n",
    "                         test_acc_grid_knn,\n",
    "                         test_acc_dt,\n",
    "                         test_acc_grid_dt,\n",
    "                         test_acc_ccp_dt,\n",
    "                         test_acc_rf,\n",
    "                         test_acc_grid_rf,\n",
    "                         test_acc_svc,\n",
    "                         test_acc_grid_svc]\n",
    "\n",
    "    }\n",
    "\n"
   ]
  },
  {
   "cell_type": "code",
   "execution_count": 153,
   "id": "def6cff4",
   "metadata": {},
   "outputs": [],
   "source": [
    "summary_models_df=pd.DataFrame(data=summary_models_dict)"
   ]
  },
  {
   "cell_type": "code",
   "execution_count": 155,
   "id": "e10935d0",
   "metadata": {},
   "outputs": [
    {
     "data": {
      "text/html": [
       "<div>\n",
       "<style scoped>\n",
       "    .dataframe tbody tr th:only-of-type {\n",
       "        vertical-align: middle;\n",
       "    }\n",
       "\n",
       "    .dataframe tbody tr th {\n",
       "        vertical-align: top;\n",
       "    }\n",
       "\n",
       "    .dataframe thead th {\n",
       "        text-align: right;\n",
       "    }\n",
       "</style>\n",
       "<table border=\"1\" class=\"dataframe\">\n",
       "  <thead>\n",
       "    <tr style=\"text-align: right;\">\n",
       "      <th></th>\n",
       "      <th>Model</th>\n",
       "      <th>Training_Accuracy</th>\n",
       "      <th>Testing_Accuracy</th>\n",
       "    </tr>\n",
       "  </thead>\n",
       "  <tbody>\n",
       "    <tr>\n",
       "      <th>8</th>\n",
       "      <td>Random Forest-Hyperparamters</td>\n",
       "      <td>0.851124</td>\n",
       "      <td>0.837989</td>\n",
       "    </tr>\n",
       "    <tr>\n",
       "      <th>4</th>\n",
       "      <td>Decision Tree</td>\n",
       "      <td>0.981742</td>\n",
       "      <td>0.815642</td>\n",
       "    </tr>\n",
       "    <tr>\n",
       "      <th>7</th>\n",
       "      <td>Random Forest</td>\n",
       "      <td>0.981742</td>\n",
       "      <td>0.815642</td>\n",
       "    </tr>\n",
       "    <tr>\n",
       "      <th>0</th>\n",
       "      <td>Logistic Regression</td>\n",
       "      <td>0.801966</td>\n",
       "      <td>0.804469</td>\n",
       "    </tr>\n",
       "    <tr>\n",
       "      <th>3</th>\n",
       "      <td>KNN-Hyperparamters</td>\n",
       "      <td>0.842697</td>\n",
       "      <td>0.787709</td>\n",
       "    </tr>\n",
       "    <tr>\n",
       "      <th>10</th>\n",
       "      <td>SVC-Hyperparameters</td>\n",
       "      <td>0.837079</td>\n",
       "      <td>0.787709</td>\n",
       "    </tr>\n",
       "    <tr>\n",
       "      <th>1</th>\n",
       "      <td>Logistic Regression-Hyperparamters</td>\n",
       "      <td>0.814607</td>\n",
       "      <td>0.782123</td>\n",
       "    </tr>\n",
       "    <tr>\n",
       "      <th>6</th>\n",
       "      <td>Decision Tree-CCP</td>\n",
       "      <td>0.789326</td>\n",
       "      <td>0.776536</td>\n",
       "    </tr>\n",
       "    <tr>\n",
       "      <th>2</th>\n",
       "      <td>KNN</td>\n",
       "      <td>0.849719</td>\n",
       "      <td>0.770950</td>\n",
       "    </tr>\n",
       "    <tr>\n",
       "      <th>5</th>\n",
       "      <td>Decision Tree-Hyperparameters</td>\n",
       "      <td>0.856742</td>\n",
       "      <td>0.759777</td>\n",
       "    </tr>\n",
       "    <tr>\n",
       "      <th>9</th>\n",
       "      <td>SVC</td>\n",
       "      <td>0.699438</td>\n",
       "      <td>0.620112</td>\n",
       "    </tr>\n",
       "  </tbody>\n",
       "</table>\n",
       "</div>"
      ],
      "text/plain": [
       "                                 Model  Training_Accuracy  Testing_Accuracy\n",
       "8         Random Forest-Hyperparamters           0.851124          0.837989\n",
       "4                        Decision Tree           0.981742          0.815642\n",
       "7                        Random Forest           0.981742          0.815642\n",
       "0                  Logistic Regression           0.801966          0.804469\n",
       "3                   KNN-Hyperparamters           0.842697          0.787709\n",
       "10                 SVC-Hyperparameters           0.837079          0.787709\n",
       "1   Logistic Regression-Hyperparamters           0.814607          0.782123\n",
       "6                    Decision Tree-CCP           0.789326          0.776536\n",
       "2                                  KNN           0.849719          0.770950\n",
       "5        Decision Tree-Hyperparameters           0.856742          0.759777\n",
       "9                                  SVC           0.699438          0.620112"
      ]
     },
     "execution_count": 155,
     "metadata": {},
     "output_type": "execute_result"
    }
   ],
   "source": [
    "summary_models_df.sort_values(by='Testing_Accuracy', ascending=False)"
   ]
  },
  {
   "cell_type": "markdown",
   "id": "c8faf8d2",
   "metadata": {},
   "source": [
    "# Conclusion: \n",
    "After examining the performance of various classifiers on the data\n",
    "Random forest model gives best Accuracy of ~84%"
   ]
  },
  {
   "cell_type": "code",
   "execution_count": null,
   "id": "85da705a",
   "metadata": {},
   "outputs": [],
   "source": []
  },
  {
   "cell_type": "code",
   "execution_count": null,
   "id": "87706076",
   "metadata": {},
   "outputs": [],
   "source": []
  },
  {
   "cell_type": "code",
   "execution_count": null,
   "id": "911d7738",
   "metadata": {},
   "outputs": [],
   "source": [
    "# We have to also convert the test data to the same format\n",
    "test_df=pd.read_csv(\"test.csv\")\n",
    "test_df.info()\n",
    "find_missing_values(test_df)\n",
    "\n",
    "test_df['Age']=test_df['Age'].fillna(test_df['Age'].median())\n",
    "test_df['Fare']=test_df['Fare'].fillna(test_df['Fare'].median())\n",
    "test_df['Cabin']=test_df['Cabin'].fillna(test_df['Cabin'].mode()[0])\n",
    "\n",
    "find_missing_values(test_df)\n",
    "\n",
    "bin_labels= ['0-20', '20-40', '40-60', '60-80']\n",
    "test_df['Age_bands'] = pd.cut(test_df['Age'], bins=4,right=True,labels=bin_labels)\n",
    "\n",
    "fare_labels= ['0-100', '100-200', '200-300', '300-400','400-500','500-600']\n",
    "test_df['Fare_Ranges'] = pd.cut(test_df['Fare'], bins=6,right=True,labels=fare_labels)\n",
    "\n",
    "test_df['FamSize'] = test_df[\"SibSp\"] + test_df[\"Parch\"] + 1\n",
    "\n",
    "test_ohe=ohe.fit_transform(test_df[['Sex','Embarked']]).toarray()\n",
    "\n",
    "test_ohe_df=pd.DataFrame(test_ohe,columns=['F', 'M', 'C','Q','S'])\n",
    "\n",
    "test_df=pd.concat([test_df,test_ohe_df],axis=1)\n",
    "\n",
    "test_df['Age_bands']=le.fit_transform(test_df[['Age_bands']])\n",
    "test_df['Fare_Ranges']=le.fit_transform(test_df[['Fare_Ranges']])\n",
    "\n",
    "test_df.info()\n",
    "\n",
    "test_df = test_df.drop(['PassengerId','Name','SibSp','Parch','Ticket','Cabin','Sex','Embarked'], axis=1)\n",
    "test_df.info()"
   ]
  }
 ],
 "metadata": {
  "kernelspec": {
   "display_name": "Python 3 (ipykernel)",
   "language": "python",
   "name": "python3"
  },
  "language_info": {
   "codemirror_mode": {
    "name": "ipython",
    "version": 3
   },
   "file_extension": ".py",
   "mimetype": "text/x-python",
   "name": "python",
   "nbconvert_exporter": "python",
   "pygments_lexer": "ipython3",
   "version": "3.9.12"
  }
 },
 "nbformat": 4,
 "nbformat_minor": 5
}
